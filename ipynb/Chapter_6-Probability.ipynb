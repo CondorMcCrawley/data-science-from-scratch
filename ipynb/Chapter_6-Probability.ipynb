{
 "cells": [
  {
   "cell_type": "code",
   "execution_count": 3,
   "metadata": {},
   "outputs": [],
   "source": [
    "import math"
   ]
  },
  {
   "cell_type": "markdown",
   "metadata": {},
   "source": [
    "Expected value = SUM ( probability(i) * value(i) )\n",
    "\n",
    "\n",
    "Since there are inifinite # of points between 0 and 1, we have to give each of those points a weight (probability) of 0. So in order to represent this, we cannot do this in a discrete distribution way. We must look at the **probability density function** which is one where the probability of seeing a value in a certain interval is the integral of the density over the interval."
   ]
  },
  {
   "cell_type": "code",
   "execution_count": 1,
   "metadata": {},
   "outputs": [],
   "source": [
    "# uniform distribution\n",
    "\n",
    "def uniform_pdf(x):\n",
    "    return 1 if x >= 0 and x < 1 else 0"
   ]
  },
  {
   "cell_type": "markdown",
   "metadata": {},
   "source": [
    "**cumulative distribution function** gives the probability that a random variable is <= to a certain value.\n",
    "- uniofrm random is never less than 0\n",
    "- P(x <= 0.4) is 0.4\n",
    "- uniform random is always less than 1"
   ]
  },
  {
   "cell_type": "code",
   "execution_count": 2,
   "metadata": {},
   "outputs": [],
   "source": [
    "def uniform_cdf (x):\n",
    "    '''\n",
    "    returns the probability that a uniform random variable is < = x\n",
    "    '''\n",
    "    if x < 0: return 0\n",
    "    elif x < 1: return x\n",
    "    else: return 1 "
   ]
  },
  {
   "cell_type": "markdown",
   "metadata": {},
   "source": [
    "### Normal Distribution"
   ]
  },
  {
   "cell_type": "code",
   "execution_count": null,
   "metadata": {},
   "outputs": [],
   "source": []
  }
 ],
 "metadata": {
  "kernelspec": {
   "display_name": "Python 3",
   "language": "python",
   "name": "python3"
  },
  "language_info": {
   "codemirror_mode": {
    "name": "ipython",
    "version": 3
   },
   "file_extension": ".py",
   "mimetype": "text/x-python",
   "name": "python",
   "nbconvert_exporter": "python",
   "pygments_lexer": "ipython3",
   "version": "3.6.5"
  }
 },
 "nbformat": 4,
 "nbformat_minor": 2
}
