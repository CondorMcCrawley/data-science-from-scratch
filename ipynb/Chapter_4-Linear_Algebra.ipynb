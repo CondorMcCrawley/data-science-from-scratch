{
 "cells": [
  {
   "cell_type": "markdown",
   "metadata": {},
   "source": [
    "# Chapter 4: Linear Algebra"
   ]
  },
  {
   "cell_type": "code",
   "execution_count": 1,
   "metadata": {},
   "outputs": [],
   "source": [
    "import numpy as np\n",
    "import pandas as pd"
   ]
  },
  {
   "cell_type": "code",
   "execution_count": 4,
   "metadata": {},
   "outputs": [],
   "source": [
    "height_weight_age = [70, # inches\n",
    "                    170, # pounds\n",
    "                    40]  # years"
   ]
  },
  {
   "cell_type": "code",
   "execution_count": 6,
   "metadata": {},
   "outputs": [],
   "source": [
    "grades = [95, # exam 1\n",
    "         80,  # exam 2\n",
    "         75,  # exam 3\n",
    "         62]  # exam 4"
   ]
  },
  {
   "cell_type": "markdown",
   "metadata": {},
   "source": [
    "Write a function to add two vectors of the same dimension"
   ]
  },
  {
   "cell_type": "code",
   "execution_count": 8,
   "metadata": {},
   "outputs": [],
   "source": [
    "def my_vector_add (v_i, w_i):\n",
    "    return [(v + w) for v, w in zip(v_i, w_i)]"
   ]
  },
  {
   "cell_type": "code",
   "execution_count": 9,
   "metadata": {},
   "outputs": [],
   "source": [
    "def my_vector_subtract (v_i, w_i):\n",
    "    return [(v-w) for v,w in zip(vi_i, w_i)]"
   ]
  },
  {
   "cell_type": "markdown",
   "metadata": {},
   "source": [
    "Write a function to add a list of vectors\n",
    "- regardless of the number of vectors, or length of vector list\n",
    "- sum all the corresponding elements\n",
    "- return a vector of the same length as each of the vectors in the list of vectors"
   ]
  },
  {
   "cell_type": "code",
   "execution_count": 13,
   "metadata": {},
   "outputs": [],
   "source": [
    "def my_vector_sum (vectors):\n",
    "    # start with the first vector\n",
    "    vec_sum = vectors[0]\n",
    "    \n",
    "    # for each of the remaining vectors, add it to the 1st one\n",
    "    for vector in vectors[1:]:\n",
    "        # replace vec_sum with the updated addition of the 2nd vector\n",
    "        # then add the 3rd vector & so on\n",
    "        vec_sum = my_vector_add(vec_sum, vector)\n",
    "        \n",
    "    return vec_sum"
   ]
  },
  {
   "cell_type": "code",
   "execution_count": 15,
   "metadata": {},
   "outputs": [],
   "source": [
    "# reduce does the same thing as my_vector_sum\n",
    "# the below code is more pythonic\n",
    "\n",
    "def vector_sum (vectors):\n",
    "    return reduce(vector_add, vectors)"
   ]
  },
  {
   "cell_type": "markdown",
   "metadata": {},
   "source": [
    "Multiply a vector by a scalar\n",
    "- multiply each element of a vector by a specified scalar"
   ]
  },
  {
   "cell_type": "code",
   "execution_count": 20,
   "metadata": {},
   "outputs": [],
   "source": [
    "def my_scalar_multiply (scalar, vector):\n",
    "    return [scalar * v_i for v_i in vector]"
   ]
  },
  {
   "cell_type": "markdown",
   "metadata": {},
   "source": [
    "Calculate componentwise mean of a list of vectors"
   ]
  },
  {
   "cell_type": "code",
   "execution_count": 22,
   "metadata": {},
   "outputs": [],
   "source": [
    "def my_vector_mean (vectors):\n",
    "    vec_sum = my_vector_sum(my_vector_add, vectors)\n",
    "    return my_scalar_multiply((1/len(vectors)), vec_sum)"
   ]
  },
  {
   "cell_type": "markdown",
   "metadata": {},
   "source": [
    "Write a function to complete a dot product beween two vectors"
   ]
  },
  {
   "cell_type": "code",
   "execution_count": null,
   "metadata": {},
   "outputs": [],
   "source": [
    "def my_dot_product (v, w):\n",
    "    "
   ]
  }
 ],
 "metadata": {
  "kernelspec": {
   "display_name": "Python 3",
   "language": "python",
   "name": "python3"
  },
  "language_info": {
   "codemirror_mode": {
    "name": "ipython",
    "version": 3
   },
   "file_extension": ".py",
   "mimetype": "text/x-python",
   "name": "python",
   "nbconvert_exporter": "python",
   "pygments_lexer": "ipython3",
   "version": "3.6.5"
  }
 },
 "nbformat": 4,
 "nbformat_minor": 2
}
