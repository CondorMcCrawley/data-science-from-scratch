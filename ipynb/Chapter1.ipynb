{
 "cells": [
  {
   "cell_type": "code",
   "execution_count": 53,
   "metadata": {},
   "outputs": [],
   "source": [
    "import numpy as np, pandas as pd\n",
    "import sys\n",
    "import scipy.stats as stats"
   ]
  },
  {
   "cell_type": "markdown",
   "metadata": {},
   "source": [
    "## Finding Key Connectors"
   ]
  },
  {
   "cell_type": "code",
   "execution_count": 54,
   "metadata": {},
   "outputs": [],
   "source": [
    "users = [\n",
    "    { \"id\": 0, \"name\": \"Hero\" },\n",
    "    { \"id\": 1, \"name\": \"Dunn\" },\n",
    "    { \"id\": 2, \"name\": \"Sue\" },\n",
    "    { \"id\": 3, \"name\": \"Chi\" },\n",
    "    { \"id\": 4, \"name\": \"Thor\" },\n",
    "    { \"id\": 5, \"name\": \"Clive\" },\n",
    "    { \"id\": 6, \"name\": \"Hicks\" },\n",
    "    { \"id\": 7, \"name\": \"Devin\" },\n",
    "    { \"id\": 8, \"name\": \"Kate\" },\n",
    "    { \"id\": 9, \"name\": \"Klein\" },\n",
    "    { \"id\": 10, \"name\": \"Jen\" }\n",
    "]"
   ]
  },
  {
   "cell_type": "code",
   "execution_count": 55,
   "metadata": {},
   "outputs": [],
   "source": [
    "friendships = [(0,1), (0,2), (1,2), (1,3), (2,3), (3,4), (4,5), (5,6), (5,7), (6,8), (7,8), (8,9)]"
   ]
  },
  {
   "cell_type": "code",
   "execution_count": 56,
   "metadata": {},
   "outputs": [],
   "source": [
    "for user in users:\n",
    "    user['friends'] = []"
   ]
  },
  {
   "cell_type": "code",
   "execution_count": 57,
   "metadata": {},
   "outputs": [],
   "source": [
    "from pprint import pprint"
   ]
  },
  {
   "cell_type": "code",
   "execution_count": 58,
   "metadata": {},
   "outputs": [
    {
     "name": "stdout",
     "output_type": "stream",
     "text": [
      "[{'friends': [], 'id': 0, 'name': 'Hero'},\n",
      " {'friends': [], 'id': 1, 'name': 'Dunn'},\n",
      " {'friends': [], 'id': 2, 'name': 'Sue'},\n",
      " {'friends': [], 'id': 3, 'name': 'Chi'},\n",
      " {'friends': [], 'id': 4, 'name': 'Thor'},\n",
      " {'friends': [], 'id': 5, 'name': 'Clive'},\n",
      " {'friends': [], 'id': 6, 'name': 'Hicks'},\n",
      " {'friends': [], 'id': 7, 'name': 'Devin'},\n",
      " {'friends': [], 'id': 8, 'name': 'Kate'},\n",
      " {'friends': [], 'id': 9, 'name': 'Klein'},\n",
      " {'friends': [], 'id': 10, 'name': 'Jen'}]\n"
     ]
    }
   ],
   "source": [
    "pprint (users)"
   ]
  },
  {
   "cell_type": "code",
   "execution_count": 59,
   "metadata": {},
   "outputs": [],
   "source": [
    "# populate the friendships data\n",
    "\n",
    "for i, j in friendships:\n",
    "    users[i]['friends'].append(users[j])\n",
    "    users[j]['friends'].append(users[i])\n",
    "    \n",
    "# do it for users[i] AND for users[j] "
   ]
  },
  {
   "cell_type": "markdown",
   "metadata": {},
   "source": [
    "#### What is the Average Number of Connections per user"
   ]
  },
  {
   "cell_type": "code",
   "execution_count": 60,
   "metadata": {},
   "outputs": [],
   "source": [
    "def number_of_friends (user):\n",
    "    '''\n",
    "    user is a single user in the users dictionary\n",
    "    '''\n",
    "    return len(user['friends'])"
   ]
  },
  {
   "cell_type": "code",
   "execution_count": 61,
   "metadata": {},
   "outputs": [],
   "source": [
    "friend_count = []\n",
    "for user in users:\n",
    "    count = number_of_friends(user)\n",
    "    friend_count.append(count)"
   ]
  },
  {
   "cell_type": "code",
   "execution_count": 62,
   "metadata": {
    "scrolled": false
   },
   "outputs": [
    {
     "data": {
      "text/plain": [
       "2.0"
      ]
     },
     "execution_count": 62,
     "metadata": {},
     "output_type": "execute_result"
    }
   ],
   "source": [
    "np.mean(friend_count)//1"
   ]
  },
  {
   "cell_type": "code",
   "execution_count": 63,
   "metadata": {
    "scrolled": true
   },
   "outputs": [
    {
     "data": {
      "text/plain": [
       "[{'id': 0,\n",
       "  'name': 'Hero',\n",
       "  'friends': [{'id': 1,\n",
       "    'name': 'Dunn',\n",
       "    'friends': [{...},\n",
       "     {'id': 2,\n",
       "      'name': 'Sue',\n",
       "      'friends': [{...},\n",
       "       {...},\n",
       "       {'id': 3,\n",
       "        'name': 'Chi',\n",
       "        'friends': [{...},\n",
       "         {...},\n",
       "         {'id': 4,\n",
       "          'name': 'Thor',\n",
       "          'friends': [{...},\n",
       "           {'id': 5,\n",
       "            'name': 'Clive',\n",
       "            'friends': [{...},\n",
       "             {'id': 6,\n",
       "              'name': 'Hicks',\n",
       "              'friends': [{...},\n",
       "               {'id': 8,\n",
       "                'name': 'Kate',\n",
       "                'friends': [{...},\n",
       "                 {'id': 7, 'name': 'Devin', 'friends': [{...}, {...}]},\n",
       "                 {'id': 9, 'name': 'Klein', 'friends': [{...}]}]}]},\n",
       "             {'id': 7,\n",
       "              'name': 'Devin',\n",
       "              'friends': [{...},\n",
       "               {'id': 8,\n",
       "                'name': 'Kate',\n",
       "                'friends': [{'id': 6,\n",
       "                  'name': 'Hicks',\n",
       "                  'friends': [{...}, {...}]},\n",
       "                 {...},\n",
       "                 {'id': 9, 'name': 'Klein', 'friends': [{...}]}]}]}]}]}]}]},\n",
       "     {'id': 3,\n",
       "      'name': 'Chi',\n",
       "      'friends': [{...},\n",
       "       {'id': 2, 'name': 'Sue', 'friends': [{...}, {...}, {...}]},\n",
       "       {'id': 4,\n",
       "        'name': 'Thor',\n",
       "        'friends': [{...},\n",
       "         {'id': 5,\n",
       "          'name': 'Clive',\n",
       "          'friends': [{...},\n",
       "           {'id': 6,\n",
       "            'name': 'Hicks',\n",
       "            'friends': [{...},\n",
       "             {'id': 8,\n",
       "              'name': 'Kate',\n",
       "              'friends': [{...},\n",
       "               {'id': 7, 'name': 'Devin', 'friends': [{...}, {...}]},\n",
       "               {'id': 9, 'name': 'Klein', 'friends': [{...}]}]}]},\n",
       "           {'id': 7,\n",
       "            'name': 'Devin',\n",
       "            'friends': [{...},\n",
       "             {'id': 8,\n",
       "              'name': 'Kate',\n",
       "              'friends': [{'id': 6,\n",
       "                'name': 'Hicks',\n",
       "                'friends': [{...}, {...}]},\n",
       "               {...},\n",
       "               {'id': 9, 'name': 'Klein', 'friends': [{...}]}]}]}]}]}]}]},\n",
       "   {'id': 2,\n",
       "    'name': 'Sue',\n",
       "    'friends': [{...},\n",
       "     {'id': 1,\n",
       "      'name': 'Dunn',\n",
       "      'friends': [{...},\n",
       "       {...},\n",
       "       {'id': 3,\n",
       "        'name': 'Chi',\n",
       "        'friends': [{...},\n",
       "         {...},\n",
       "         {'id': 4,\n",
       "          'name': 'Thor',\n",
       "          'friends': [{...},\n",
       "           {'id': 5,\n",
       "            'name': 'Clive',\n",
       "            'friends': [{...},\n",
       "             {'id': 6,\n",
       "              'name': 'Hicks',\n",
       "              'friends': [{...},\n",
       "               {'id': 8,\n",
       "                'name': 'Kate',\n",
       "                'friends': [{...},\n",
       "                 {'id': 7, 'name': 'Devin', 'friends': [{...}, {...}]},\n",
       "                 {'id': 9, 'name': 'Klein', 'friends': [{...}]}]}]},\n",
       "             {'id': 7,\n",
       "              'name': 'Devin',\n",
       "              'friends': [{...},\n",
       "               {'id': 8,\n",
       "                'name': 'Kate',\n",
       "                'friends': [{'id': 6,\n",
       "                  'name': 'Hicks',\n",
       "                  'friends': [{...}, {...}]},\n",
       "                 {...},\n",
       "                 {'id': 9, 'name': 'Klein', 'friends': [{...}]}]}]}]}]}]}]},\n",
       "     {'id': 3,\n",
       "      'name': 'Chi',\n",
       "      'friends': [{'id': 1, 'name': 'Dunn', 'friends': [{...}, {...}, {...}]},\n",
       "       {...},\n",
       "       {'id': 4,\n",
       "        'name': 'Thor',\n",
       "        'friends': [{...},\n",
       "         {'id': 5,\n",
       "          'name': 'Clive',\n",
       "          'friends': [{...},\n",
       "           {'id': 6,\n",
       "            'name': 'Hicks',\n",
       "            'friends': [{...},\n",
       "             {'id': 8,\n",
       "              'name': 'Kate',\n",
       "              'friends': [{...},\n",
       "               {'id': 7, 'name': 'Devin', 'friends': [{...}, {...}]},\n",
       "               {'id': 9, 'name': 'Klein', 'friends': [{...}]}]}]},\n",
       "           {'id': 7,\n",
       "            'name': 'Devin',\n",
       "            'friends': [{...},\n",
       "             {'id': 8,\n",
       "              'name': 'Kate',\n",
       "              'friends': [{'id': 6,\n",
       "                'name': 'Hicks',\n",
       "                'friends': [{...}, {...}]},\n",
       "               {...},\n",
       "               {'id': 9, 'name': 'Klein', 'friends': [{...}]}]}]}]}]}]}]}]},\n",
       " {'id': 1,\n",
       "  'name': 'Dunn',\n",
       "  'friends': [{'id': 0,\n",
       "    'name': 'Hero',\n",
       "    'friends': [{...},\n",
       "     {'id': 2,\n",
       "      'name': 'Sue',\n",
       "      'friends': [{...},\n",
       "       {...},\n",
       "       {'id': 3,\n",
       "        'name': 'Chi',\n",
       "        'friends': [{...},\n",
       "         {...},\n",
       "         {'id': 4,\n",
       "          'name': 'Thor',\n",
       "          'friends': [{...},\n",
       "           {'id': 5,\n",
       "            'name': 'Clive',\n",
       "            'friends': [{...},\n",
       "             {'id': 6,\n",
       "              'name': 'Hicks',\n",
       "              'friends': [{...},\n",
       "               {'id': 8,\n",
       "                'name': 'Kate',\n",
       "                'friends': [{...},\n",
       "                 {'id': 7, 'name': 'Devin', 'friends': [{...}, {...}]},\n",
       "                 {'id': 9, 'name': 'Klein', 'friends': [{...}]}]}]},\n",
       "             {'id': 7,\n",
       "              'name': 'Devin',\n",
       "              'friends': [{...},\n",
       "               {'id': 8,\n",
       "                'name': 'Kate',\n",
       "                'friends': [{'id': 6,\n",
       "                  'name': 'Hicks',\n",
       "                  'friends': [{...}, {...}]},\n",
       "                 {...},\n",
       "                 {'id': 9, 'name': 'Klein', 'friends': [{...}]}]}]}]}]}]}]}]},\n",
       "   {'id': 2,\n",
       "    'name': 'Sue',\n",
       "    'friends': [{'id': 0, 'name': 'Hero', 'friends': [{...}, {...}]},\n",
       "     {...},\n",
       "     {'id': 3,\n",
       "      'name': 'Chi',\n",
       "      'friends': [{...},\n",
       "       {...},\n",
       "       {'id': 4,\n",
       "        'name': 'Thor',\n",
       "        'friends': [{...},\n",
       "         {'id': 5,\n",
       "          'name': 'Clive',\n",
       "          'friends': [{...},\n",
       "           {'id': 6,\n",
       "            'name': 'Hicks',\n",
       "            'friends': [{...},\n",
       "             {'id': 8,\n",
       "              'name': 'Kate',\n",
       "              'friends': [{...},\n",
       "               {'id': 7, 'name': 'Devin', 'friends': [{...}, {...}]},\n",
       "               {'id': 9, 'name': 'Klein', 'friends': [{...}]}]}]},\n",
       "           {'id': 7,\n",
       "            'name': 'Devin',\n",
       "            'friends': [{...},\n",
       "             {'id': 8,\n",
       "              'name': 'Kate',\n",
       "              'friends': [{'id': 6,\n",
       "                'name': 'Hicks',\n",
       "                'friends': [{...}, {...}]},\n",
       "               {...},\n",
       "               {'id': 9, 'name': 'Klein', 'friends': [{...}]}]}]}]}]}]}]},\n",
       "   {'id': 3,\n",
       "    'name': 'Chi',\n",
       "    'friends': [{...},\n",
       "     {'id': 2,\n",
       "      'name': 'Sue',\n",
       "      'friends': [{'id': 0, 'name': 'Hero', 'friends': [{...}, {...}]},\n",
       "       {...},\n",
       "       {...}]},\n",
       "     {'id': 4,\n",
       "      'name': 'Thor',\n",
       "      'friends': [{...},\n",
       "       {'id': 5,\n",
       "        'name': 'Clive',\n",
       "        'friends': [{...},\n",
       "         {'id': 6,\n",
       "          'name': 'Hicks',\n",
       "          'friends': [{...},\n",
       "           {'id': 8,\n",
       "            'name': 'Kate',\n",
       "            'friends': [{...},\n",
       "             {'id': 7, 'name': 'Devin', 'friends': [{...}, {...}]},\n",
       "             {'id': 9, 'name': 'Klein', 'friends': [{...}]}]}]},\n",
       "         {'id': 7,\n",
       "          'name': 'Devin',\n",
       "          'friends': [{...},\n",
       "           {'id': 8,\n",
       "            'name': 'Kate',\n",
       "            'friends': [{'id': 6, 'name': 'Hicks', 'friends': [{...}, {...}]},\n",
       "             {...},\n",
       "             {'id': 9, 'name': 'Klein', 'friends': [{...}]}]}]}]}]}]}]},\n",
       " {'id': 2,\n",
       "  'name': 'Sue',\n",
       "  'friends': [{'id': 0,\n",
       "    'name': 'Hero',\n",
       "    'friends': [{'id': 1,\n",
       "      'name': 'Dunn',\n",
       "      'friends': [{...},\n",
       "       {...},\n",
       "       {'id': 3,\n",
       "        'name': 'Chi',\n",
       "        'friends': [{...},\n",
       "         {...},\n",
       "         {'id': 4,\n",
       "          'name': 'Thor',\n",
       "          'friends': [{...},\n",
       "           {'id': 5,\n",
       "            'name': 'Clive',\n",
       "            'friends': [{...},\n",
       "             {'id': 6,\n",
       "              'name': 'Hicks',\n",
       "              'friends': [{...},\n",
       "               {'id': 8,\n",
       "                'name': 'Kate',\n",
       "                'friends': [{...},\n",
       "                 {'id': 7, 'name': 'Devin', 'friends': [{...}, {...}]},\n",
       "                 {'id': 9, 'name': 'Klein', 'friends': [{...}]}]}]},\n",
       "             {'id': 7,\n",
       "              'name': 'Devin',\n",
       "              'friends': [{...},\n",
       "               {'id': 8,\n",
       "                'name': 'Kate',\n",
       "                'friends': [{'id': 6,\n",
       "                  'name': 'Hicks',\n",
       "                  'friends': [{...}, {...}]},\n",
       "                 {...},\n",
       "                 {'id': 9, 'name': 'Klein', 'friends': [{...}]}]}]}]}]}]}]},\n",
       "     {...}]},\n",
       "   {'id': 1,\n",
       "    'name': 'Dunn',\n",
       "    'friends': [{'id': 0, 'name': 'Hero', 'friends': [{...}, {...}]},\n",
       "     {...},\n",
       "     {'id': 3,\n",
       "      'name': 'Chi',\n",
       "      'friends': [{...},\n",
       "       {...},\n",
       "       {'id': 4,\n",
       "        'name': 'Thor',\n",
       "        'friends': [{...},\n",
       "         {'id': 5,\n",
       "          'name': 'Clive',\n",
       "          'friends': [{...},\n",
       "           {'id': 6,\n",
       "            'name': 'Hicks',\n",
       "            'friends': [{...},\n",
       "             {'id': 8,\n",
       "              'name': 'Kate',\n",
       "              'friends': [{...},\n",
       "               {'id': 7, 'name': 'Devin', 'friends': [{...}, {...}]},\n",
       "               {'id': 9, 'name': 'Klein', 'friends': [{...}]}]}]},\n",
       "           {'id': 7,\n",
       "            'name': 'Devin',\n",
       "            'friends': [{...},\n",
       "             {'id': 8,\n",
       "              'name': 'Kate',\n",
       "              'friends': [{'id': 6,\n",
       "                'name': 'Hicks',\n",
       "                'friends': [{...}, {...}]},\n",
       "               {...},\n",
       "               {'id': 9, 'name': 'Klein', 'friends': [{...}]}]}]}]}]}]}]},\n",
       "   {'id': 3,\n",
       "    'name': 'Chi',\n",
       "    'friends': [{'id': 1,\n",
       "      'name': 'Dunn',\n",
       "      'friends': [{'id': 0, 'name': 'Hero', 'friends': [{...}, {...}]},\n",
       "       {...},\n",
       "       {...}]},\n",
       "     {...},\n",
       "     {'id': 4,\n",
       "      'name': 'Thor',\n",
       "      'friends': [{...},\n",
       "       {'id': 5,\n",
       "        'name': 'Clive',\n",
       "        'friends': [{...},\n",
       "         {'id': 6,\n",
       "          'name': 'Hicks',\n",
       "          'friends': [{...},\n",
       "           {'id': 8,\n",
       "            'name': 'Kate',\n",
       "            'friends': [{...},\n",
       "             {'id': 7, 'name': 'Devin', 'friends': [{...}, {...}]},\n",
       "             {'id': 9, 'name': 'Klein', 'friends': [{...}]}]}]},\n",
       "         {'id': 7,\n",
       "          'name': 'Devin',\n",
       "          'friends': [{...},\n",
       "           {'id': 8,\n",
       "            'name': 'Kate',\n",
       "            'friends': [{'id': 6, 'name': 'Hicks', 'friends': [{...}, {...}]},\n",
       "             {...},\n",
       "             {'id': 9, 'name': 'Klein', 'friends': [{...}]}]}]}]}]}]}]},\n",
       " {'id': 3,\n",
       "  'name': 'Chi',\n",
       "  'friends': [{'id': 1,\n",
       "    'name': 'Dunn',\n",
       "    'friends': [{'id': 0,\n",
       "      'name': 'Hero',\n",
       "      'friends': [{...},\n",
       "       {'id': 2, 'name': 'Sue', 'friends': [{...}, {...}, {...}]}]},\n",
       "     {'id': 2,\n",
       "      'name': 'Sue',\n",
       "      'friends': [{'id': 0, 'name': 'Hero', 'friends': [{...}, {...}]},\n",
       "       {...},\n",
       "       {...}]},\n",
       "     {...}]},\n",
       "   {'id': 2,\n",
       "    'name': 'Sue',\n",
       "    'friends': [{'id': 0,\n",
       "      'name': 'Hero',\n",
       "      'friends': [{'id': 1, 'name': 'Dunn', 'friends': [{...}, {...}, {...}]},\n",
       "       {...}]},\n",
       "     {'id': 1,\n",
       "      'name': 'Dunn',\n",
       "      'friends': [{'id': 0, 'name': 'Hero', 'friends': [{...}, {...}]},\n",
       "       {...},\n",
       "       {...}]},\n",
       "     {...}]},\n",
       "   {'id': 4,\n",
       "    'name': 'Thor',\n",
       "    'friends': [{...},\n",
       "     {'id': 5,\n",
       "      'name': 'Clive',\n",
       "      'friends': [{...},\n",
       "       {'id': 6,\n",
       "        'name': 'Hicks',\n",
       "        'friends': [{...},\n",
       "         {'id': 8,\n",
       "          'name': 'Kate',\n",
       "          'friends': [{...},\n",
       "           {'id': 7, 'name': 'Devin', 'friends': [{...}, {...}]},\n",
       "           {'id': 9, 'name': 'Klein', 'friends': [{...}]}]}]},\n",
       "       {'id': 7,\n",
       "        'name': 'Devin',\n",
       "        'friends': [{...},\n",
       "         {'id': 8,\n",
       "          'name': 'Kate',\n",
       "          'friends': [{'id': 6, 'name': 'Hicks', 'friends': [{...}, {...}]},\n",
       "           {...},\n",
       "           {'id': 9, 'name': 'Klein', 'friends': [{...}]}]}]}]}]}]},\n",
       " {'id': 4,\n",
       "  'name': 'Thor',\n",
       "  'friends': [{'id': 3,\n",
       "    'name': 'Chi',\n",
       "    'friends': [{'id': 1,\n",
       "      'name': 'Dunn',\n",
       "      'friends': [{'id': 0,\n",
       "        'name': 'Hero',\n",
       "        'friends': [{...},\n",
       "         {'id': 2, 'name': 'Sue', 'friends': [{...}, {...}, {...}]}]},\n",
       "       {'id': 2,\n",
       "        'name': 'Sue',\n",
       "        'friends': [{'id': 0, 'name': 'Hero', 'friends': [{...}, {...}]},\n",
       "         {...},\n",
       "         {...}]},\n",
       "       {...}]},\n",
       "     {'id': 2,\n",
       "      'name': 'Sue',\n",
       "      'friends': [{'id': 0,\n",
       "        'name': 'Hero',\n",
       "        'friends': [{'id': 1,\n",
       "          'name': 'Dunn',\n",
       "          'friends': [{...}, {...}, {...}]},\n",
       "         {...}]},\n",
       "       {'id': 1,\n",
       "        'name': 'Dunn',\n",
       "        'friends': [{'id': 0, 'name': 'Hero', 'friends': [{...}, {...}]},\n",
       "         {...},\n",
       "         {...}]},\n",
       "       {...}]},\n",
       "     {...}]},\n",
       "   {'id': 5,\n",
       "    'name': 'Clive',\n",
       "    'friends': [{...},\n",
       "     {'id': 6,\n",
       "      'name': 'Hicks',\n",
       "      'friends': [{...},\n",
       "       {'id': 8,\n",
       "        'name': 'Kate',\n",
       "        'friends': [{...},\n",
       "         {'id': 7, 'name': 'Devin', 'friends': [{...}, {...}]},\n",
       "         {'id': 9, 'name': 'Klein', 'friends': [{...}]}]}]},\n",
       "     {'id': 7,\n",
       "      'name': 'Devin',\n",
       "      'friends': [{...},\n",
       "       {'id': 8,\n",
       "        'name': 'Kate',\n",
       "        'friends': [{'id': 6, 'name': 'Hicks', 'friends': [{...}, {...}]},\n",
       "         {...},\n",
       "         {'id': 9, 'name': 'Klein', 'friends': [{...}]}]}]}]}]},\n",
       " {'id': 5,\n",
       "  'name': 'Clive',\n",
       "  'friends': [{'id': 4,\n",
       "    'name': 'Thor',\n",
       "    'friends': [{'id': 3,\n",
       "      'name': 'Chi',\n",
       "      'friends': [{'id': 1,\n",
       "        'name': 'Dunn',\n",
       "        'friends': [{'id': 0,\n",
       "          'name': 'Hero',\n",
       "          'friends': [{...},\n",
       "           {'id': 2, 'name': 'Sue', 'friends': [{...}, {...}, {...}]}]},\n",
       "         {'id': 2,\n",
       "          'name': 'Sue',\n",
       "          'friends': [{'id': 0, 'name': 'Hero', 'friends': [{...}, {...}]},\n",
       "           {...},\n",
       "           {...}]},\n",
       "         {...}]},\n",
       "       {'id': 2,\n",
       "        'name': 'Sue',\n",
       "        'friends': [{'id': 0,\n",
       "          'name': 'Hero',\n",
       "          'friends': [{'id': 1,\n",
       "            'name': 'Dunn',\n",
       "            'friends': [{...}, {...}, {...}]},\n",
       "           {...}]},\n",
       "         {'id': 1,\n",
       "          'name': 'Dunn',\n",
       "          'friends': [{'id': 0, 'name': 'Hero', 'friends': [{...}, {...}]},\n",
       "           {...},\n",
       "           {...}]},\n",
       "         {...}]},\n",
       "       {...}]},\n",
       "     {...}]},\n",
       "   {'id': 6,\n",
       "    'name': 'Hicks',\n",
       "    'friends': [{...},\n",
       "     {'id': 8,\n",
       "      'name': 'Kate',\n",
       "      'friends': [{...},\n",
       "       {'id': 7, 'name': 'Devin', 'friends': [{...}, {...}]},\n",
       "       {'id': 9, 'name': 'Klein', 'friends': [{...}]}]}]},\n",
       "   {'id': 7,\n",
       "    'name': 'Devin',\n",
       "    'friends': [{...},\n",
       "     {'id': 8,\n",
       "      'name': 'Kate',\n",
       "      'friends': [{'id': 6, 'name': 'Hicks', 'friends': [{...}, {...}]},\n",
       "       {...},\n",
       "       {'id': 9, 'name': 'Klein', 'friends': [{...}]}]}]}]},\n",
       " {'id': 6,\n",
       "  'name': 'Hicks',\n",
       "  'friends': [{'id': 5,\n",
       "    'name': 'Clive',\n",
       "    'friends': [{'id': 4,\n",
       "      'name': 'Thor',\n",
       "      'friends': [{'id': 3,\n",
       "        'name': 'Chi',\n",
       "        'friends': [{'id': 1,\n",
       "          'name': 'Dunn',\n",
       "          'friends': [{'id': 0,\n",
       "            'name': 'Hero',\n",
       "            'friends': [{...},\n",
       "             {'id': 2, 'name': 'Sue', 'friends': [{...}, {...}, {...}]}]},\n",
       "           {'id': 2,\n",
       "            'name': 'Sue',\n",
       "            'friends': [{'id': 0, 'name': 'Hero', 'friends': [{...}, {...}]},\n",
       "             {...},\n",
       "             {...}]},\n",
       "           {...}]},\n",
       "         {'id': 2,\n",
       "          'name': 'Sue',\n",
       "          'friends': [{'id': 0,\n",
       "            'name': 'Hero',\n",
       "            'friends': [{'id': 1,\n",
       "              'name': 'Dunn',\n",
       "              'friends': [{...}, {...}, {...}]},\n",
       "             {...}]},\n",
       "           {'id': 1,\n",
       "            'name': 'Dunn',\n",
       "            'friends': [{'id': 0, 'name': 'Hero', 'friends': [{...}, {...}]},\n",
       "             {...},\n",
       "             {...}]},\n",
       "           {...}]},\n",
       "         {...}]},\n",
       "       {...}]},\n",
       "     {...},\n",
       "     {'id': 7,\n",
       "      'name': 'Devin',\n",
       "      'friends': [{...},\n",
       "       {'id': 8,\n",
       "        'name': 'Kate',\n",
       "        'friends': [{...},\n",
       "         {...},\n",
       "         {'id': 9, 'name': 'Klein', 'friends': [{...}]}]}]}]},\n",
       "   {'id': 8,\n",
       "    'name': 'Kate',\n",
       "    'friends': [{...},\n",
       "     {'id': 7,\n",
       "      'name': 'Devin',\n",
       "      'friends': [{'id': 5,\n",
       "        'name': 'Clive',\n",
       "        'friends': [{'id': 4,\n",
       "          'name': 'Thor',\n",
       "          'friends': [{'id': 3,\n",
       "            'name': 'Chi',\n",
       "            'friends': [{'id': 1,\n",
       "              'name': 'Dunn',\n",
       "              'friends': [{'id': 0,\n",
       "                'name': 'Hero',\n",
       "                'friends': [{...},\n",
       "                 {'id': 2, 'name': 'Sue', 'friends': [{...}, {...}, {...}]}]},\n",
       "               {'id': 2,\n",
       "                'name': 'Sue',\n",
       "                'friends': [{'id': 0,\n",
       "                  'name': 'Hero',\n",
       "                  'friends': [{...}, {...}]},\n",
       "                 {...},\n",
       "                 {...}]},\n",
       "               {...}]},\n",
       "             {'id': 2,\n",
       "              'name': 'Sue',\n",
       "              'friends': [{'id': 0,\n",
       "                'name': 'Hero',\n",
       "                'friends': [{'id': 1,\n",
       "                  'name': 'Dunn',\n",
       "                  'friends': [{...}, {...}, {...}]},\n",
       "                 {...}]},\n",
       "               {'id': 1,\n",
       "                'name': 'Dunn',\n",
       "                'friends': [{'id': 0,\n",
       "                  'name': 'Hero',\n",
       "                  'friends': [{...}, {...}]},\n",
       "                 {...},\n",
       "                 {...}]},\n",
       "               {...}]},\n",
       "             {...}]},\n",
       "           {...}]},\n",
       "         {...},\n",
       "         {...}]},\n",
       "       {...}]},\n",
       "     {'id': 9, 'name': 'Klein', 'friends': [{...}]}]}]},\n",
       " {'id': 7,\n",
       "  'name': 'Devin',\n",
       "  'friends': [{'id': 5,\n",
       "    'name': 'Clive',\n",
       "    'friends': [{'id': 4,\n",
       "      'name': 'Thor',\n",
       "      'friends': [{'id': 3,\n",
       "        'name': 'Chi',\n",
       "        'friends': [{'id': 1,\n",
       "          'name': 'Dunn',\n",
       "          'friends': [{'id': 0,\n",
       "            'name': 'Hero',\n",
       "            'friends': [{...},\n",
       "             {'id': 2, 'name': 'Sue', 'friends': [{...}, {...}, {...}]}]},\n",
       "           {'id': 2,\n",
       "            'name': 'Sue',\n",
       "            'friends': [{'id': 0, 'name': 'Hero', 'friends': [{...}, {...}]},\n",
       "             {...},\n",
       "             {...}]},\n",
       "           {...}]},\n",
       "         {'id': 2,\n",
       "          'name': 'Sue',\n",
       "          'friends': [{'id': 0,\n",
       "            'name': 'Hero',\n",
       "            'friends': [{'id': 1,\n",
       "              'name': 'Dunn',\n",
       "              'friends': [{...}, {...}, {...}]},\n",
       "             {...}]},\n",
       "           {'id': 1,\n",
       "            'name': 'Dunn',\n",
       "            'friends': [{'id': 0, 'name': 'Hero', 'friends': [{...}, {...}]},\n",
       "             {...},\n",
       "             {...}]},\n",
       "           {...}]},\n",
       "         {...}]},\n",
       "       {...}]},\n",
       "     {'id': 6,\n",
       "      'name': 'Hicks',\n",
       "      'friends': [{...},\n",
       "       {'id': 8,\n",
       "        'name': 'Kate',\n",
       "        'friends': [{...},\n",
       "         {...},\n",
       "         {'id': 9, 'name': 'Klein', 'friends': [{...}]}]}]},\n",
       "     {...}]},\n",
       "   {'id': 8,\n",
       "    'name': 'Kate',\n",
       "    'friends': [{'id': 6,\n",
       "      'name': 'Hicks',\n",
       "      'friends': [{'id': 5,\n",
       "        'name': 'Clive',\n",
       "        'friends': [{'id': 4,\n",
       "          'name': 'Thor',\n",
       "          'friends': [{'id': 3,\n",
       "            'name': 'Chi',\n",
       "            'friends': [{'id': 1,\n",
       "              'name': 'Dunn',\n",
       "              'friends': [{'id': 0,\n",
       "                'name': 'Hero',\n",
       "                'friends': [{...},\n",
       "                 {'id': 2, 'name': 'Sue', 'friends': [{...}, {...}, {...}]}]},\n",
       "               {'id': 2,\n",
       "                'name': 'Sue',\n",
       "                'friends': [{'id': 0,\n",
       "                  'name': 'Hero',\n",
       "                  'friends': [{...}, {...}]},\n",
       "                 {...},\n",
       "                 {...}]},\n",
       "               {...}]},\n",
       "             {'id': 2,\n",
       "              'name': 'Sue',\n",
       "              'friends': [{'id': 0,\n",
       "                'name': 'Hero',\n",
       "                'friends': [{'id': 1,\n",
       "                  'name': 'Dunn',\n",
       "                  'friends': [{...}, {...}, {...}]},\n",
       "                 {...}]},\n",
       "               {'id': 1,\n",
       "                'name': 'Dunn',\n",
       "                'friends': [{'id': 0,\n",
       "                  'name': 'Hero',\n",
       "                  'friends': [{...}, {...}]},\n",
       "                 {...},\n",
       "                 {...}]},\n",
       "               {...}]},\n",
       "             {...}]},\n",
       "           {...}]},\n",
       "         {...},\n",
       "         {...}]},\n",
       "       {...}]},\n",
       "     {...},\n",
       "     {'id': 9, 'name': 'Klein', 'friends': [{...}]}]}]},\n",
       " {'id': 8,\n",
       "  'name': 'Kate',\n",
       "  'friends': [{'id': 6,\n",
       "    'name': 'Hicks',\n",
       "    'friends': [{'id': 5,\n",
       "      'name': 'Clive',\n",
       "      'friends': [{'id': 4,\n",
       "        'name': 'Thor',\n",
       "        'friends': [{'id': 3,\n",
       "          'name': 'Chi',\n",
       "          'friends': [{'id': 1,\n",
       "            'name': 'Dunn',\n",
       "            'friends': [{'id': 0,\n",
       "              'name': 'Hero',\n",
       "              'friends': [{...},\n",
       "               {'id': 2, 'name': 'Sue', 'friends': [{...}, {...}, {...}]}]},\n",
       "             {'id': 2,\n",
       "              'name': 'Sue',\n",
       "              'friends': [{'id': 0, 'name': 'Hero', 'friends': [{...}, {...}]},\n",
       "               {...},\n",
       "               {...}]},\n",
       "             {...}]},\n",
       "           {'id': 2,\n",
       "            'name': 'Sue',\n",
       "            'friends': [{'id': 0,\n",
       "              'name': 'Hero',\n",
       "              'friends': [{'id': 1,\n",
       "                'name': 'Dunn',\n",
       "                'friends': [{...}, {...}, {...}]},\n",
       "               {...}]},\n",
       "             {'id': 1,\n",
       "              'name': 'Dunn',\n",
       "              'friends': [{'id': 0, 'name': 'Hero', 'friends': [{...}, {...}]},\n",
       "               {...},\n",
       "               {...}]},\n",
       "             {...}]},\n",
       "           {...}]},\n",
       "         {...}]},\n",
       "       {...},\n",
       "       {'id': 7, 'name': 'Devin', 'friends': [{...}, {...}]}]},\n",
       "     {...}]},\n",
       "   {'id': 7,\n",
       "    'name': 'Devin',\n",
       "    'friends': [{'id': 5,\n",
       "      'name': 'Clive',\n",
       "      'friends': [{'id': 4,\n",
       "        'name': 'Thor',\n",
       "        'friends': [{'id': 3,\n",
       "          'name': 'Chi',\n",
       "          'friends': [{'id': 1,\n",
       "            'name': 'Dunn',\n",
       "            'friends': [{'id': 0,\n",
       "              'name': 'Hero',\n",
       "              'friends': [{...},\n",
       "               {'id': 2, 'name': 'Sue', 'friends': [{...}, {...}, {...}]}]},\n",
       "             {'id': 2,\n",
       "              'name': 'Sue',\n",
       "              'friends': [{'id': 0, 'name': 'Hero', 'friends': [{...}, {...}]},\n",
       "               {...},\n",
       "               {...}]},\n",
       "             {...}]},\n",
       "           {'id': 2,\n",
       "            'name': 'Sue',\n",
       "            'friends': [{'id': 0,\n",
       "              'name': 'Hero',\n",
       "              'friends': [{'id': 1,\n",
       "                'name': 'Dunn',\n",
       "                'friends': [{...}, {...}, {...}]},\n",
       "               {...}]},\n",
       "             {'id': 1,\n",
       "              'name': 'Dunn',\n",
       "              'friends': [{'id': 0, 'name': 'Hero', 'friends': [{...}, {...}]},\n",
       "               {...},\n",
       "               {...}]},\n",
       "             {...}]},\n",
       "           {...}]},\n",
       "         {...}]},\n",
       "       {'id': 6, 'name': 'Hicks', 'friends': [{...}, {...}]},\n",
       "       {...}]},\n",
       "     {...}]},\n",
       "   {'id': 9, 'name': 'Klein', 'friends': [{...}]}]},\n",
       " {'id': 9,\n",
       "  'name': 'Klein',\n",
       "  'friends': [{'id': 8,\n",
       "    'name': 'Kate',\n",
       "    'friends': [{'id': 6,\n",
       "      'name': 'Hicks',\n",
       "      'friends': [{'id': 5,\n",
       "        'name': 'Clive',\n",
       "        'friends': [{'id': 4,\n",
       "          'name': 'Thor',\n",
       "          'friends': [{'id': 3,\n",
       "            'name': 'Chi',\n",
       "            'friends': [{'id': 1,\n",
       "              'name': 'Dunn',\n",
       "              'friends': [{'id': 0,\n",
       "                'name': 'Hero',\n",
       "                'friends': [{...},\n",
       "                 {'id': 2, 'name': 'Sue', 'friends': [{...}, {...}, {...}]}]},\n",
       "               {'id': 2,\n",
       "                'name': 'Sue',\n",
       "                'friends': [{'id': 0,\n",
       "                  'name': 'Hero',\n",
       "                  'friends': [{...}, {...}]},\n",
       "                 {...},\n",
       "                 {...}]},\n",
       "               {...}]},\n",
       "             {'id': 2,\n",
       "              'name': 'Sue',\n",
       "              'friends': [{'id': 0,\n",
       "                'name': 'Hero',\n",
       "                'friends': [{'id': 1,\n",
       "                  'name': 'Dunn',\n",
       "                  'friends': [{...}, {...}, {...}]},\n",
       "                 {...}]},\n",
       "               {'id': 1,\n",
       "                'name': 'Dunn',\n",
       "                'friends': [{'id': 0,\n",
       "                  'name': 'Hero',\n",
       "                  'friends': [{...}, {...}]},\n",
       "                 {...},\n",
       "                 {...}]},\n",
       "               {...}]},\n",
       "             {...}]},\n",
       "           {...}]},\n",
       "         {...},\n",
       "         {'id': 7, 'name': 'Devin', 'friends': [{...}, {...}]}]},\n",
       "       {...}]},\n",
       "     {'id': 7,\n",
       "      'name': 'Devin',\n",
       "      'friends': [{'id': 5,\n",
       "        'name': 'Clive',\n",
       "        'friends': [{'id': 4,\n",
       "          'name': 'Thor',\n",
       "          'friends': [{'id': 3,\n",
       "            'name': 'Chi',\n",
       "            'friends': [{'id': 1,\n",
       "              'name': 'Dunn',\n",
       "              'friends': [{'id': 0,\n",
       "                'name': 'Hero',\n",
       "                'friends': [{...},\n",
       "                 {'id': 2, 'name': 'Sue', 'friends': [{...}, {...}, {...}]}]},\n",
       "               {'id': 2,\n",
       "                'name': 'Sue',\n",
       "                'friends': [{'id': 0,\n",
       "                  'name': 'Hero',\n",
       "                  'friends': [{...}, {...}]},\n",
       "                 {...},\n",
       "                 {...}]},\n",
       "               {...}]},\n",
       "             {'id': 2,\n",
       "              'name': 'Sue',\n",
       "              'friends': [{'id': 0,\n",
       "                'name': 'Hero',\n",
       "                'friends': [{'id': 1,\n",
       "                  'name': 'Dunn',\n",
       "                  'friends': [{...}, {...}, {...}]},\n",
       "                 {...}]},\n",
       "               {'id': 1,\n",
       "                'name': 'Dunn',\n",
       "                'friends': [{'id': 0,\n",
       "                  'name': 'Hero',\n",
       "                  'friends': [{...}, {...}]},\n",
       "                 {...},\n",
       "                 {...}]},\n",
       "               {...}]},\n",
       "             {...}]},\n",
       "           {...}]},\n",
       "         {'id': 6, 'name': 'Hicks', 'friends': [{...}, {...}]},\n",
       "         {...}]},\n",
       "       {...}]},\n",
       "     {...}]}]},\n",
       " {'id': 10, 'name': 'Jen', 'friends': []}]"
      ]
     },
     "execution_count": 63,
     "metadata": {},
     "output_type": "execute_result"
    }
   ],
   "source": [
    "users"
   ]
  },
  {
   "cell_type": "markdown",
   "metadata": {},
   "source": [
    "#### Find the users with the most connecions"
   ]
  },
  {
   "cell_type": "code",
   "execution_count": 11,
   "metadata": {},
   "outputs": [
    {
     "data": {
      "text/plain": [
       "3"
      ]
     },
     "execution_count": 11,
     "metadata": {},
     "output_type": "execute_result"
    }
   ],
   "source": [
    "np.max(friend_count)"
   ]
  },
  {
   "cell_type": "code",
   "execution_count": 12,
   "metadata": {},
   "outputs": [],
   "source": [
    "friend_count_per_user= []\n",
    "\n",
    "for user in users:\n",
    "    count = number_of_friends(user)\n",
    "    friend_count_per_user.append((user['id'], count))"
   ]
  },
  {
   "cell_type": "code",
   "execution_count": 13,
   "metadata": {},
   "outputs": [
    {
     "data": {
      "text/plain": [
       "[(0, 2),\n",
       " (1, 3),\n",
       " (2, 3),\n",
       " (3, 3),\n",
       " (4, 2),\n",
       " (5, 3),\n",
       " (6, 2),\n",
       " (7, 2),\n",
       " (8, 3),\n",
       " (9, 1),\n",
       " (10, 0)]"
      ]
     },
     "execution_count": 13,
     "metadata": {},
     "output_type": "execute_result"
    }
   ],
   "source": [
    "friend_count_per_user"
   ]
  },
  {
   "cell_type": "code",
   "execution_count": 14,
   "metadata": {
    "scrolled": true
   },
   "outputs": [
    {
     "data": {
      "text/plain": [
       "[(1, 3),\n",
       " (2, 3),\n",
       " (3, 3),\n",
       " (5, 3),\n",
       " (8, 3),\n",
       " (0, 2),\n",
       " (4, 2),\n",
       " (6, 2),\n",
       " (7, 2),\n",
       " (9, 1),\n",
       " (10, 0)]"
      ]
     },
     "execution_count": 14,
     "metadata": {},
     "output_type": "execute_result"
    }
   ],
   "source": [
    "sorted(friend_count_per_user, key=lambda x: x[1], reverse=True)"
   ]
  },
  {
   "cell_type": "markdown",
   "metadata": {},
   "source": [
    "### Data Scientists You May Know\n",
    "Build a suggester by looking at second degree connections"
   ]
  },
  {
   "cell_type": "code",
   "execution_count": 15,
   "metadata": {},
   "outputs": [],
   "source": [
    "def find_friends_of_friends(user):\n",
    "    return [foaf['id'] for friend in user['friends'] for foaf in friend['friends']]"
   ]
  },
  {
   "cell_type": "code",
   "execution_count": 16,
   "metadata": {
    "scrolled": true
   },
   "outputs": [
    {
     "data": {
      "text/plain": [
       "[0, 2, 3, 0, 1, 3]"
      ]
     },
     "execution_count": 16,
     "metadata": {},
     "output_type": "execute_result"
    }
   ],
   "source": [
    "find_friends_of_friends(users[0])\n",
    "# this prints the list of friend id's that are 2 degrees removed for each friend of the user\n",
    "# notice there are duplicate friends listed here"
   ]
  },
  {
   "cell_type": "code",
   "execution_count": 17,
   "metadata": {},
   "outputs": [],
   "source": [
    "# if I want to remove duplicates, I can then add set in front of the list comprehension.\n",
    "def foaf_set(user):\n",
    "    return set([foaf['id'] for friend in user['friends'] for foaf in friend['friends']])"
   ]
  },
  {
   "cell_type": "code",
   "execution_count": 18,
   "metadata": {},
   "outputs": [
    {
     "data": {
      "text/plain": [
       "{0, 1, 2, 3}"
      ]
     },
     "execution_count": 18,
     "metadata": {},
     "output_type": "execute_result"
    }
   ],
   "source": [
    "foaf_set(users[0])"
   ]
  },
  {
   "cell_type": "markdown",
   "metadata": {},
   "source": [
    "**Complete a count of mutual friends**"
   ]
  },
  {
   "cell_type": "code",
   "execution_count": 19,
   "metadata": {},
   "outputs": [],
   "source": [
    "from collections import Counter"
   ]
  },
  {
   "cell_type": "code",
   "execution_count": 20,
   "metadata": {},
   "outputs": [],
   "source": [
    "# this will return a boolean to test if the users are the same or not\n",
    "def not_the_same(user, other_user):\n",
    "    return user['id'] != other_user['id']\n"
   ]
  },
  {
   "cell_type": "code",
   "execution_count": 21,
   "metadata": {},
   "outputs": [
    {
     "data": {
      "text/plain": [
       "True"
      ]
     },
     "execution_count": 21,
     "metadata": {},
     "output_type": "execute_result"
    }
   ],
   "source": [
    "not_the_same(users[0], users[1])"
   ]
  },
  {
   "cell_type": "code",
   "execution_count": 22,
   "metadata": {},
   "outputs": [],
   "source": [
    "def not_friends(user, other_user):\n",
    "    return all([not_the_same(friend, other_user) for friend in user['friends']])"
   ]
  },
  {
   "cell_type": "code",
   "execution_count": 23,
   "metadata": {},
   "outputs": [
    {
     "data": {
      "text/plain": [
       "False"
      ]
     },
     "execution_count": 23,
     "metadata": {},
     "output_type": "execute_result"
    }
   ],
   "source": [
    "not_friends(users[0], users[1])"
   ]
  },
  {
   "cell_type": "code",
   "execution_count": 24,
   "metadata": {},
   "outputs": [],
   "source": [
    "def friend_of_friend(user):\n",
    "    return Counter(foaf['id'] for friend in user['friends'] for foaf in friend['friends'] \\\n",
    "                   if not_the_same(user, foaf) and not_friends(user, foaf))"
   ]
  },
  {
   "cell_type": "code",
   "execution_count": 25,
   "metadata": {},
   "outputs": [
    {
     "data": {
      "text/plain": [
       "Counter({0: 2, 5: 1})"
      ]
     },
     "execution_count": 25,
     "metadata": {},
     "output_type": "execute_result"
    }
   ],
   "source": [
    "# this means that for User 3 (Chi) has 2 mutual friends with Hero (users[0]) and 1 mutual friend with Clive (users[5])\n",
    "friend_of_friend(users[3])"
   ]
  },
  {
   "cell_type": "markdown",
   "metadata": {},
   "source": [
    "#### Interests"
   ]
  },
  {
   "cell_type": "code",
   "execution_count": 26,
   "metadata": {},
   "outputs": [],
   "source": [
    "interests = [\n",
    "    (0, \"Hadoop\"), (0, \"Big Data\"), (0, \"HBase\"), (0, \"Java\"),\n",
    "    (0, \"Spark\"), (0, \"Storm\"), (0, \"Cassandra\"),\n",
    "    (1, \"NoSQL\"), (1, \"MongoDB\"), (1, \"Cassandra\"), (1, \"HBase\"),\n",
    "    (1, \"Postgres\"), (2, \"Python\"), (2, \"scikit-learn\"), (2, \"scipy\"),\n",
    "    (2, \"numpy\"), (2, \"statsmodels\"), (2, \"pandas\"), (3, \"R\"), (3, \"Python\"),\n",
    "    (3, \"statistics\"), (3, \"regression\"), (3, \"probability\"),\n",
    "    (4, \"machine learning\"), (4, \"regression\"), (4, \"decision trees\"),\n",
    "    (4, \"libsvm\"), (5, \"Python\"), (5, \"R\"), (5, \"Java\"), (5, \"C++\"),\n",
    "    (5, \"Haskell\"), (5, \"programming languages\"), (6, \"statistics\"),\n",
    "    (6, \"probability\"), (6, \"mathematics\"), (6, \"theory\"),\n",
    "    (7, \"machine learning\"), (7, \"scikit-learn\"), (7, \"Mahout\"),\n",
    "    (7, \"neural networks\"), (8, \"neural networks\"), (8, \"deep learning\"),\n",
    "    (8, \"Big Data\"), (8, \"artificial intelligence\"), (9, \"Hadoop\"),\n",
    "    (9, \"Java\"), (9, \"MapReduce\"), (9, \"Big Data\")\n",
    "]"
   ]
  },
  {
   "cell_type": "code",
   "execution_count": 27,
   "metadata": {
    "scrolled": true
   },
   "outputs": [
    {
     "data": {
      "text/plain": [
       "(0, 'Hadoop')"
      ]
     },
     "execution_count": 27,
     "metadata": {},
     "output_type": "execute_result"
    }
   ],
   "source": [
    "interests[0]"
   ]
  },
  {
   "cell_type": "code",
   "execution_count": 28,
   "metadata": {
    "scrolled": true
   },
   "outputs": [
    {
     "data": {
      "text/plain": [
       "49"
      ]
     },
     "execution_count": 28,
     "metadata": {},
     "output_type": "execute_result"
    }
   ],
   "source": [
    "len(interests)"
   ]
  },
  {
   "cell_type": "markdown",
   "metadata": {},
   "source": [
    "** Write a function that finds users with a certain interest**"
   ]
  },
  {
   "cell_type": "code",
   "execution_count": 29,
   "metadata": {},
   "outputs": [
    {
     "data": {
      "text/plain": [
       "0"
      ]
     },
     "execution_count": 29,
     "metadata": {},
     "output_type": "execute_result"
    }
   ],
   "source": [
    "interests[0][0]"
   ]
  },
  {
   "cell_type": "code",
   "execution_count": 30,
   "metadata": {
    "scrolled": true
   },
   "outputs": [
    {
     "data": {
      "text/plain": [
       "'Hadoop'"
      ]
     },
     "execution_count": 30,
     "metadata": {},
     "output_type": "execute_result"
    }
   ],
   "source": [
    "interests[0][1]"
   ]
  },
  {
   "cell_type": "code",
   "execution_count": 31,
   "metadata": {
    "collapsed": true
   },
   "outputs": [
    {
     "name": "stdout",
     "output_type": "stream",
     "text": [
      "0\n",
      "0\n",
      "0\n",
      "0\n",
      "0\n",
      "0\n",
      "0\n",
      "1\n",
      "1\n",
      "1\n",
      "1\n",
      "1\n",
      "2\n",
      "2\n",
      "2\n",
      "2\n",
      "2\n",
      "2\n",
      "3\n",
      "3\n",
      "3\n",
      "3\n",
      "3\n",
      "4\n",
      "4\n",
      "4\n",
      "4\n",
      "5\n",
      "5\n",
      "5\n",
      "5\n",
      "5\n",
      "5\n",
      "6\n",
      "6\n",
      "6\n",
      "6\n",
      "7\n",
      "7\n",
      "7\n",
      "7\n",
      "8\n",
      "8\n",
      "8\n",
      "8\n",
      "9\n",
      "9\n",
      "9\n",
      "9\n"
     ]
    },
    {
     "data": {
      "text/plain": [
       "49"
      ]
     },
     "execution_count": 31,
     "metadata": {},
     "output_type": "execute_result"
    }
   ],
   "source": [
    "# test the unpacknig of the tuples into 2 values\n",
    "\n",
    "len([print(user_id) for user_id, user_interest in interests])"
   ]
  },
  {
   "cell_type": "code",
   "execution_count": 32,
   "metadata": {},
   "outputs": [],
   "source": [
    "def data_scientists_who_like(target_interest):\n",
    "    return [user_id for user_id, user_interest in interests if user_interest == target_interest]"
   ]
  },
  {
   "cell_type": "code",
   "execution_count": 33,
   "metadata": {},
   "outputs": [
    {
     "data": {
      "text/plain": [
       "[0, 9]"
      ]
     },
     "execution_count": 33,
     "metadata": {},
     "output_type": "execute_result"
    }
   ],
   "source": [
    "data_scientists_who_like('Hadoop')"
   ]
  },
  {
   "cell_type": "code",
   "execution_count": 34,
   "metadata": {},
   "outputs": [
    {
     "data": {
      "text/plain": [
       "[4]"
      ]
     },
     "execution_count": 34,
     "metadata": {},
     "output_type": "execute_result"
    }
   ],
   "source": [
    "data_scientists_who_like('decision trees')"
   ]
  },
  {
   "cell_type": "markdown",
   "metadata": {},
   "source": [
    "**This takes a long time since it goes through every interest for every user.**\n",
    "**Build an index of users and interests into a dictionary** where the keys are the interests and the values is a list of user ids."
   ]
  },
  {
   "cell_type": "code",
   "execution_count": 35,
   "metadata": {},
   "outputs": [],
   "source": [
    "from collections import defaultdict"
   ]
  },
  {
   "cell_type": "code",
   "execution_count": 36,
   "metadata": {},
   "outputs": [],
   "source": [
    "user_ids_by_interest = defaultdict(list)\n",
    "# name the dictionary user_ids_by_interest\n",
    "# call on defaultdict and tell it that the values should be of list format"
   ]
  },
  {
   "cell_type": "code",
   "execution_count": 37,
   "metadata": {},
   "outputs": [
    {
     "data": {
      "text/plain": [
       "defaultdict(list, {})"
      ]
     },
     "execution_count": 37,
     "metadata": {},
     "output_type": "execute_result"
    }
   ],
   "source": [
    "user_ids_by_interest"
   ]
  },
  {
   "cell_type": "code",
   "execution_count": 38,
   "metadata": {},
   "outputs": [],
   "source": [
    "# go through each tuple and write it into the dictionary, where \n",
    "\n",
    "# dictionary_name[key_name].append() and I can call the .append() method because the value type is a list as I \\\n",
    "# specified\n",
    "\n",
    "# then append the user_id that applies to that particular key\n",
    "\n",
    "for user_id, interest in interests:\n",
    "    user_ids_by_interest[interest].append(user_id)"
   ]
  },
  {
   "cell_type": "code",
   "execution_count": 39,
   "metadata": {},
   "outputs": [
    {
     "data": {
      "text/plain": [
       "defaultdict(list,\n",
       "            {'Hadoop': [0, 9],\n",
       "             'Big Data': [0, 8, 9],\n",
       "             'HBase': [0, 1],\n",
       "             'Java': [0, 5, 9],\n",
       "             'Spark': [0],\n",
       "             'Storm': [0],\n",
       "             'Cassandra': [0, 1],\n",
       "             'NoSQL': [1],\n",
       "             'MongoDB': [1],\n",
       "             'Postgres': [1],\n",
       "             'Python': [2, 3, 5],\n",
       "             'scikit-learn': [2, 7],\n",
       "             'scipy': [2],\n",
       "             'numpy': [2],\n",
       "             'statsmodels': [2],\n",
       "             'pandas': [2],\n",
       "             'R': [3, 5],\n",
       "             'statistics': [3, 6],\n",
       "             'regression': [3, 4],\n",
       "             'probability': [3, 6],\n",
       "             'machine learning': [4, 7],\n",
       "             'decision trees': [4],\n",
       "             'libsvm': [4],\n",
       "             'C++': [5],\n",
       "             'Haskell': [5],\n",
       "             'programming languages': [5],\n",
       "             'mathematics': [6],\n",
       "             'theory': [6],\n",
       "             'Mahout': [7],\n",
       "             'neural networks': [7, 8],\n",
       "             'deep learning': [8],\n",
       "             'artificial intelligence': [8],\n",
       "             'MapReduce': [9]})"
      ]
     },
     "execution_count": 39,
     "metadata": {},
     "output_type": "execute_result"
    }
   ],
   "source": [
    "user_ids_by_interest"
   ]
  },
  {
   "cell_type": "markdown",
   "metadata": {},
   "source": [
    "As an exercise, **invert the keys and the values** where the keys are the user_ids and the values are their list of interests"
   ]
  },
  {
   "cell_type": "code",
   "execution_count": 40,
   "metadata": {},
   "outputs": [],
   "source": [
    "interests_by_userids = defaultdict(list)"
   ]
  },
  {
   "cell_type": "code",
   "execution_count": 41,
   "metadata": {},
   "outputs": [],
   "source": [
    "for user_id, user_interest in interests:\n",
    "    interests_by_userids[user_id].append(user_interest)"
   ]
  },
  {
   "cell_type": "code",
   "execution_count": 42,
   "metadata": {
    "scrolled": true
   },
   "outputs": [
    {
     "data": {
      "text/plain": [
       "defaultdict(list,\n",
       "            {0: ['Hadoop',\n",
       "              'Big Data',\n",
       "              'HBase',\n",
       "              'Java',\n",
       "              'Spark',\n",
       "              'Storm',\n",
       "              'Cassandra'],\n",
       "             1: ['NoSQL', 'MongoDB', 'Cassandra', 'HBase', 'Postgres'],\n",
       "             2: ['Python',\n",
       "              'scikit-learn',\n",
       "              'scipy',\n",
       "              'numpy',\n",
       "              'statsmodels',\n",
       "              'pandas'],\n",
       "             3: ['R', 'Python', 'statistics', 'regression', 'probability'],\n",
       "             4: ['machine learning', 'regression', 'decision trees', 'libsvm'],\n",
       "             5: ['Python',\n",
       "              'R',\n",
       "              'Java',\n",
       "              'C++',\n",
       "              'Haskell',\n",
       "              'programming languages'],\n",
       "             6: ['statistics', 'probability', 'mathematics', 'theory'],\n",
       "             7: ['machine learning',\n",
       "              'scikit-learn',\n",
       "              'Mahout',\n",
       "              'neural networks'],\n",
       "             8: ['neural networks',\n",
       "              'deep learning',\n",
       "              'Big Data',\n",
       "              'artificial intelligence'],\n",
       "             9: ['Hadoop', 'Java', 'MapReduce', 'Big Data']})"
      ]
     },
     "execution_count": 42,
     "metadata": {},
     "output_type": "execute_result"
    }
   ],
   "source": [
    "interests_by_userids"
   ]
  },
  {
   "cell_type": "markdown",
   "metadata": {},
   "source": [
    "**Now find who has the most interests in common with a given user.**\n",
    "- Stipulate User\n",
    "- For each interest a user has, get OTHER users that share the same interest\n",
    "- Count how many times each of the OTHER users appear\n",
    "- Return the user that appeared the MOST FREQUENT number of times"
   ]
  },
  {
   "cell_type": "code",
   "execution_count": 71,
   "metadata": {},
   "outputs": [],
   "source": [
    "def most_common_interests_with (user):\n",
    "    return Counter(interested_user_id for interest in interested_by_user_id[user['id']] \\\n",
    "                   for interested_user_id in user_ids_by_interest[interest] if interested_user_id != user[\"id\"])\n",
    "        "
   ]
  },
  {
   "cell_type": "code",
   "execution_count": 72,
   "metadata": {},
   "outputs": [
    {
     "ename": "NameError",
     "evalue": "name 'interested_by_user_id' is not defined",
     "output_type": "error",
     "traceback": [
      "\u001b[0;31m---------------------------------------------------------------------------\u001b[0m",
      "\u001b[0;31mNameError\u001b[0m                                 Traceback (most recent call last)",
      "\u001b[0;32m<ipython-input-72-037daf1da9c2>\u001b[0m in \u001b[0;36m<module>\u001b[0;34m()\u001b[0m\n\u001b[0;32m----> 1\u001b[0;31m \u001b[0mmost_common_interests_with\u001b[0m\u001b[0;34m(\u001b[0m\u001b[0;34m'0'\u001b[0m\u001b[0;34m)\u001b[0m\u001b[0;34m\u001b[0m\u001b[0m\n\u001b[0m",
      "\u001b[0;32m<ipython-input-71-7499ec8ede33>\u001b[0m in \u001b[0;36mmost_common_interests_with\u001b[0;34m(user)\u001b[0m\n\u001b[1;32m      1\u001b[0m \u001b[0;32mdef\u001b[0m \u001b[0mmost_common_interests_with\u001b[0m \u001b[0;34m(\u001b[0m\u001b[0muser\u001b[0m\u001b[0;34m)\u001b[0m\u001b[0;34m:\u001b[0m\u001b[0;34m\u001b[0m\u001b[0m\n\u001b[0;32m----> 2\u001b[0;31m     \u001b[0;32mreturn\u001b[0m \u001b[0mCounter\u001b[0m\u001b[0;34m(\u001b[0m\u001b[0minterested_user_id\u001b[0m \u001b[0;32mfor\u001b[0m \u001b[0minterest\u001b[0m \u001b[0;32min\u001b[0m \u001b[0minterested_by_user_id\u001b[0m\u001b[0;34m[\u001b[0m\u001b[0muser\u001b[0m\u001b[0;34m[\u001b[0m\u001b[0;34m'id'\u001b[0m\u001b[0;34m]\u001b[0m\u001b[0;34m]\u001b[0m                    \u001b[0;32mfor\u001b[0m \u001b[0minterested_user_id\u001b[0m \u001b[0;32min\u001b[0m \u001b[0muser_ids_by_interest\u001b[0m\u001b[0;34m[\u001b[0m\u001b[0minterest\u001b[0m\u001b[0;34m]\u001b[0m \u001b[0;32mif\u001b[0m \u001b[0minterested_user_id\u001b[0m \u001b[0;34m!=\u001b[0m \u001b[0muser\u001b[0m\u001b[0;34m[\u001b[0m\u001b[0;34m\"id\"\u001b[0m\u001b[0;34m]\u001b[0m\u001b[0;34m)\u001b[0m\u001b[0;34m\u001b[0m\u001b[0m\n\u001b[0m\u001b[1;32m      3\u001b[0m \u001b[0;34m\u001b[0m\u001b[0m\n",
      "\u001b[0;31mNameError\u001b[0m: name 'interested_by_user_id' is not defined"
     ]
    }
   ],
   "source": [
    "most_common_interests_with('0')"
   ]
  },
  {
   "cell_type": "code",
   "execution_count": 67,
   "metadata": {},
   "outputs": [
    {
     "data": {
      "text/plain": [
       "11"
      ]
     },
     "execution_count": 67,
     "metadata": {},
     "output_type": "execute_result"
    }
   ],
   "source": [
    "len(users)"
   ]
  },
  {
   "cell_type": "code",
   "execution_count": 66,
   "metadata": {
    "scrolled": true
   },
   "outputs": [
    {
     "data": {
      "text/plain": [
       "{'id': 0,\n",
       " 'name': 'Hero',\n",
       " 'friends': [{'id': 1,\n",
       "   'name': 'Dunn',\n",
       "   'friends': [{...},\n",
       "    {'id': 2,\n",
       "     'name': 'Sue',\n",
       "     'friends': [{...},\n",
       "      {...},\n",
       "      {'id': 3,\n",
       "       'name': 'Chi',\n",
       "       'friends': [{...},\n",
       "        {...},\n",
       "        {'id': 4,\n",
       "         'name': 'Thor',\n",
       "         'friends': [{...},\n",
       "          {'id': 5,\n",
       "           'name': 'Clive',\n",
       "           'friends': [{...},\n",
       "            {'id': 6,\n",
       "             'name': 'Hicks',\n",
       "             'friends': [{...},\n",
       "              {'id': 8,\n",
       "               'name': 'Kate',\n",
       "               'friends': [{...},\n",
       "                {'id': 7, 'name': 'Devin', 'friends': [{...}, {...}]},\n",
       "                {'id': 9, 'name': 'Klein', 'friends': [{...}]}]}]},\n",
       "            {'id': 7,\n",
       "             'name': 'Devin',\n",
       "             'friends': [{...},\n",
       "              {'id': 8,\n",
       "               'name': 'Kate',\n",
       "               'friends': [{'id': 6,\n",
       "                 'name': 'Hicks',\n",
       "                 'friends': [{...}, {...}]},\n",
       "                {...},\n",
       "                {'id': 9, 'name': 'Klein', 'friends': [{...}]}]}]}]}]}]}]},\n",
       "    {'id': 3,\n",
       "     'name': 'Chi',\n",
       "     'friends': [{...},\n",
       "      {'id': 2, 'name': 'Sue', 'friends': [{...}, {...}, {...}]},\n",
       "      {'id': 4,\n",
       "       'name': 'Thor',\n",
       "       'friends': [{...},\n",
       "        {'id': 5,\n",
       "         'name': 'Clive',\n",
       "         'friends': [{...},\n",
       "          {'id': 6,\n",
       "           'name': 'Hicks',\n",
       "           'friends': [{...},\n",
       "            {'id': 8,\n",
       "             'name': 'Kate',\n",
       "             'friends': [{...},\n",
       "              {'id': 7, 'name': 'Devin', 'friends': [{...}, {...}]},\n",
       "              {'id': 9, 'name': 'Klein', 'friends': [{...}]}]}]},\n",
       "          {'id': 7,\n",
       "           'name': 'Devin',\n",
       "           'friends': [{...},\n",
       "            {'id': 8,\n",
       "             'name': 'Kate',\n",
       "             'friends': [{'id': 6, 'name': 'Hicks', 'friends': [{...}, {...}]},\n",
       "              {...},\n",
       "              {'id': 9, 'name': 'Klein', 'friends': [{...}]}]}]}]}]}]}]},\n",
       "  {'id': 2,\n",
       "   'name': 'Sue',\n",
       "   'friends': [{...},\n",
       "    {'id': 1,\n",
       "     'name': 'Dunn',\n",
       "     'friends': [{...},\n",
       "      {...},\n",
       "      {'id': 3,\n",
       "       'name': 'Chi',\n",
       "       'friends': [{...},\n",
       "        {...},\n",
       "        {'id': 4,\n",
       "         'name': 'Thor',\n",
       "         'friends': [{...},\n",
       "          {'id': 5,\n",
       "           'name': 'Clive',\n",
       "           'friends': [{...},\n",
       "            {'id': 6,\n",
       "             'name': 'Hicks',\n",
       "             'friends': [{...},\n",
       "              {'id': 8,\n",
       "               'name': 'Kate',\n",
       "               'friends': [{...},\n",
       "                {'id': 7, 'name': 'Devin', 'friends': [{...}, {...}]},\n",
       "                {'id': 9, 'name': 'Klein', 'friends': [{...}]}]}]},\n",
       "            {'id': 7,\n",
       "             'name': 'Devin',\n",
       "             'friends': [{...},\n",
       "              {'id': 8,\n",
       "               'name': 'Kate',\n",
       "               'friends': [{'id': 6,\n",
       "                 'name': 'Hicks',\n",
       "                 'friends': [{...}, {...}]},\n",
       "                {...},\n",
       "                {'id': 9, 'name': 'Klein', 'friends': [{...}]}]}]}]}]}]}]},\n",
       "    {'id': 3,\n",
       "     'name': 'Chi',\n",
       "     'friends': [{'id': 1, 'name': 'Dunn', 'friends': [{...}, {...}, {...}]},\n",
       "      {...},\n",
       "      {'id': 4,\n",
       "       'name': 'Thor',\n",
       "       'friends': [{...},\n",
       "        {'id': 5,\n",
       "         'name': 'Clive',\n",
       "         'friends': [{...},\n",
       "          {'id': 6,\n",
       "           'name': 'Hicks',\n",
       "           'friends': [{...},\n",
       "            {'id': 8,\n",
       "             'name': 'Kate',\n",
       "             'friends': [{...},\n",
       "              {'id': 7, 'name': 'Devin', 'friends': [{...}, {...}]},\n",
       "              {'id': 9, 'name': 'Klein', 'friends': [{...}]}]}]},\n",
       "          {'id': 7,\n",
       "           'name': 'Devin',\n",
       "           'friends': [{...},\n",
       "            {'id': 8,\n",
       "             'name': 'Kate',\n",
       "             'friends': [{'id': 6, 'name': 'Hicks', 'friends': [{...}, {...}]},\n",
       "              {...},\n",
       "              {'id': 9, 'name': 'Klein', 'friends': [{...}]}]}]}]}]}]}]}]}"
      ]
     },
     "execution_count": 66,
     "metadata": {},
     "output_type": "execute_result"
    }
   ],
   "source": [
    "users[0]"
   ]
  },
  {
   "cell_type": "code",
   "execution_count": null,
   "metadata": {},
   "outputs": [],
   "source": []
  }
 ],
 "metadata": {
  "kernelspec": {
   "display_name": "Python 3",
   "language": "python",
   "name": "python3"
  },
  "language_info": {
   "codemirror_mode": {
    "name": "ipython",
    "version": 3
   },
   "file_extension": ".py",
   "mimetype": "text/x-python",
   "name": "python",
   "nbconvert_exporter": "python",
   "pygments_lexer": "ipython3",
   "version": "3.6.5"
  }
 },
 "nbformat": 4,
 "nbformat_minor": 2
}
