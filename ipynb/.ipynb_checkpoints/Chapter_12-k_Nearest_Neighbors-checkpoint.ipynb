{
 "cells": [
  {
   "cell_type": "code",
   "execution_count": 4,
   "metadata": {},
   "outputs": [],
   "source": [
    "import math\n",
    "from collections import Counter"
   ]
  },
  {
   "cell_type": "code",
   "execution_count": 2,
   "metadata": {},
   "outputs": [],
   "source": [
    "def my_vector_subtract (v_i, w_i):\n",
    "    return [(v-w) for v,w in zip(vi_i, w_i)]\n",
    "\n",
    "def my_dot_product (v, w):\n",
    "    elem_mult = [v_i * w_i for v_i, w_i in zip(v,w)]\n",
    "    return sum(elem_mult)\n",
    "\n",
    "def my_sum_of_squares (v):\n",
    "    return my_dot_product(v,v)\n",
    "\n",
    "def my_vector_distance(v, w):\n",
    "    diff = my_vector_subtract(v, w)\n",
    "    squares = my_sum_of_squares(diff)\n",
    "    return math.sqrt(sum(squares))"
   ]
  },
  {
   "cell_type": "markdown",
   "metadata": {},
   "source": [
    "If we picked a number k like 3 or 5, then we want to classify new data by finding k nearest labeled points and the neighboring data points vote on the new output on how to classify that new data point.\n",
    "\n",
    "\n",
    "Write a function to do this:"
   ]
  },
  {
   "cell_type": "code",
   "execution_count": 5,
   "metadata": {},
   "outputs": [],
   "source": [
    "def my_raw_majority_vote (labels):\n",
    "    votes = Counter(labels)\n",
    "\n",
    "    # throw the _ behind majority because we don't care about the count\n",
    "    # we only need to unpack which label of the many labels is the majority\n",
    "    majority, _ = votes.most_common()[0] \n",
    "    \n",
    "    return majority"
   ]
  },
  {
   "cell_type": "markdown",
   "metadata": {},
   "source": [
    "We have different optinos on how to do \"voting\"\n",
    "- pick a winner at random\n",
    "- weight the votes by distance and pick the weighted winner\n",
    "- reduce k until we find a unique winner (**THIS is the one we will implement below**)"
   ]
  },
  {
   "cell_type": "code",
   "execution_count": 6,
   "metadata": {},
   "outputs": [],
   "source": [
    "def my_majority_vote (labels):\n",
    "    '''\n",
    "    assumes that the labels passed in as an argument are ALREADY ranked from nearest to farthest\n",
    "    '''\n",
    "    vote_counts = Counter(labels)\n",
    "    winner, winner_count = votes.most_common(1)[0]\n",
    "    \n",
    "    # list comprehension is looking at vote_count values\n",
    "    # then taking a tally of the number of winners where the values of the vote_count \n",
    "    # matches the winner_count (which is the number of times a given label appeared the MOST)\n",
    "    num_winners = len([count for count in vote_counts.values() if count == winner_count])\n",
    "    \n",
    "    if num_winners == 1:\n",
    "        return winner\n",
    "    \n",
    "    else:\n",
    "        # make the function recursive, but drop the farthest point from the labels input\n",
    "        return my_majority_vote(labels[:-1]) "
   ]
  },
  {
   "cell_type": "markdown",
   "metadata": {},
   "source": [
    "Now with the my_majority_vote function, we're able to create the knn function"
   ]
  },
  {
   "cell_type": "code",
   "execution_count": 8,
   "metadata": {},
   "outputs": [],
   "source": [
    "def my_knn_classify (k, labels, new_point):\n",
    "    \n",
    "    # order the labels from nearest to farthest\n",
    "    by_distance = sorted(labels, key=lambda point, _ : my_vector_distance(point, new_point))\n",
    "    \n",
    "    # find the labels for the k closest\n",
    "    k_nearest_labels = [label for label in by_distance[:k]]\n",
    "    \n",
    "    # put the k_nearest_labels thru the voting process\n",
    "    return my_majority_vote(k_nearest_labels)"
   ]
  },
  {
   "cell_type": "markdown",
   "metadata": {},
   "source": [
    "In practice: let's test on \"Favorite Languages\""
   ]
  },
  {
   "cell_type": "code",
   "execution_count": null,
   "metadata": {},
   "outputs": [],
   "source": [
    "cities = [([-122.3, 47.53], 'Python'),\n",
    "         ([-96.35,])]"
   ]
  }
 ],
 "metadata": {
  "kernelspec": {
   "display_name": "Python 3",
   "language": "python",
   "name": "python3"
  },
  "language_info": {
   "codemirror_mode": {
    "name": "ipython",
    "version": 3
   },
   "file_extension": ".py",
   "mimetype": "text/x-python",
   "name": "python",
   "nbconvert_exporter": "python",
   "pygments_lexer": "ipython3",
   "version": "3.6.5"
  }
 },
 "nbformat": 4,
 "nbformat_minor": 2
}
