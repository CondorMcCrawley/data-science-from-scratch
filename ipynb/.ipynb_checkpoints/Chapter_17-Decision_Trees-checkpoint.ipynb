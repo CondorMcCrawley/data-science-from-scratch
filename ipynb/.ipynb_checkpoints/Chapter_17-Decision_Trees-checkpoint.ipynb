{
 "cells": [
  {
   "cell_type": "markdown",
   "metadata": {},
   "source": [
    "# Chapter 17: Decision Trees (for Classification)"
   ]
  },
  {
   "cell_type": "code",
   "execution_count": 60,
   "metadata": {},
   "outputs": [],
   "source": [
    "import numpy as np\n",
    "import matplotlib.pyplot as plt\n",
    "from collections import Counter, defaultdict\n",
    "from functools import partial"
   ]
  },
  {
   "cell_type": "code",
   "execution_count": 19,
   "metadata": {},
   "outputs": [],
   "source": [
    "ps_to_try = np.random.random(1000)"
   ]
  },
  {
   "cell_type": "code",
   "execution_count": 20,
   "metadata": {},
   "outputs": [],
   "source": [
    "plogp = [-p*np.log2(p) for p in ps_to_try]"
   ]
  },
  {
   "cell_type": "code",
   "execution_count": 21,
   "metadata": {
    "scrolled": false
   },
   "outputs": [
    {
     "data": {
      "text/plain": [
       "Text(0,0.5,'Entropy : -p*log2(p)')"
      ]
     },
     "execution_count": 21,
     "metadata": {},
     "output_type": "execute_result"
    },
    {
     "data": {
      "image/png": "[encoded data removed]",
      "text/plain": [
       "<Figure size 720x504 with 1 Axes>"
      ]
     },
     "metadata": {},
     "output_type": "display_data"
    }
   ],
   "source": [
    "plt.figure(figsize=(10,7))\n",
    "_ = plt.scatter(x=ps_to_try, y=np.asarray(plogp))\n",
    "plt.xlabel('Proportion of data labeled as class C(i)')\n",
    "plt.ylabel('Entropy : -p*log2(p)')"
   ]
  },
  {
   "cell_type": "markdown",
   "metadata": {},
   "source": [
    "This demonstrates that for entropy is near 0 when the proportion of data labeled as class C is close to either 0 or 1. However, if the proportion of the data neither all one class or not at all of a certain class, then uncertainty is higher, therefore entropy is higher."
   ]
  },
  {
   "cell_type": "code",
   "execution_count": 22,
   "metadata": {},
   "outputs": [],
   "source": [
    "def my_entropy(class_probabilities):\n",
    "    '''\n",
    "    given a list of class probabilities, compute the entropy\n",
    "    '''\n",
    "    entropy_per_class = [-p * np.log2(p) for p in class_probabilities]\n",
    "    entropy = np.sum(entropy_per_class)\n",
    "    return entropy"
   ]
  },
  {
   "cell_type": "markdown",
   "metadata": {},
   "source": [
    "**Note**\n",
    "\n",
    "- The data will consist of pairs `(input, label)`, which means the probabilities are not given. \n",
    "- write a function to compute the probabilities for each class\n"
   ]
  },
  {
   "cell_type": "code",
   "execution_count": 23,
   "metadata": {},
   "outputs": [],
   "source": [
    "def my_class_probabilities (labels):\n",
    "    total_count = len(labels)\n",
    "    count_dict = Counter(labels)\n",
    "    probabilities = [count / total_count for count in count_dict.values()]\n",
    "    return probabilities"
   ]
  },
  {
   "cell_type": "code",
   "execution_count": 24,
   "metadata": {},
   "outputs": [],
   "source": [
    "def my_data_entropy (labeled_data):\n",
    "    '''\n",
    "    remember that labeled_data is a list of tuples (input, label)\n",
    "    '''\n",
    "    # use the underscore because not immediate concerned about the input\n",
    "    labels = [label for _, label in labeled_data]\n",
    "    probabilities = my_class_probabilities(labels)\n",
    "    entropy = my_entropy(probabilities)\n",
    "    return entropy"
   ]
  },
  {
   "cell_type": "markdown",
   "metadata": {},
   "source": [
    "We want the **partitions** to have:\n",
    "- LOW entropy if it splits the data into subsets that themselves have LOW entropy\n",
    "- HIGH entropy if it contains subsets that (are large) and have HIGH entropy themselves"
   ]
  },
  {
   "cell_type": "code",
   "execution_count": 26,
   "metadata": {},
   "outputs": [],
   "source": [
    "def my_partition_entropy(subsets):\n",
    "    '''\n",
    "    find the entropy from this partition of data into subsets\n",
    "    subsets is a list of lists of labeled data\n",
    "    '''\n",
    "    total_count = np.sum(len(subset) for subset in subsets)\n",
    "    \n",
    "    # len(subset) / total_count gives you a weight for each of the entropy values\n",
    "    # we need to calculate the entropy values\n",
    "    # and lastly take a weighted sum of the entropy values \n",
    "    weighted_entropies = [my_data_entropy(subset) * len(subset) / total_count for subset in subsets]\n",
    "    return np.sum(weighted_entropies)"
   ]
  },
  {
   "cell_type": "markdown",
   "metadata": {},
   "source": [
    "- One problem with this approach is overfitting if you're partitioning by an attribute with many different values.\n",
    "- Try to **avoid attributes with large numbers of possible values** when creating decision trees\n",
    "- Try to conversely avoid attributes with only a handful of possible values when creating decision trees\n",
    "- One alternative is to bucket if appropirate"
   ]
  },
  {
   "cell_type": "markdown",
   "metadata": {},
   "source": [
    "### Creating a Decision Tree\n",
    "- If the data **all** have the **same label** then create a leaf node with that label, and then STOP\n",
    "- If the list of **attributes is empty** (share no more possible questions to ask), create a leaf node that **predicts the most common label** and then STOP\n",
    "- Otherwise, try partitioning the data by **each** of the attributes\n",
    "- Choose the partition with the lowest partition entropy\n",
    "- Add a decision node based on the chosen attribute\n",
    "- Recur on each partitioned subset using the remaining attributes"
   ]
  },
  {
   "cell_type": "code",
   "execution_count": 27,
   "metadata": {},
   "outputs": [],
   "source": [
    "inputs = [\n",
    "        ({'level':'Senior','lang':'Java','tweets':'no','phd':'no'},   False),\n",
    "        ({'level':'Senior','lang':'Java','tweets':'no','phd':'yes'},  False),\n",
    "        ({'level':'Mid','lang':'Python','tweets':'no','phd':'no'},     True),\n",
    "        ({'level':'Junior','lang':'Python','tweets':'no','phd':'no'},  True),\n",
    "        ({'level':'Junior','lang':'R','tweets':'yes','phd':'no'},      True),\n",
    "        ({'level':'Junior','lang':'R','tweets':'yes','phd':'yes'},    False),\n",
    "        ({'level':'Mid','lang':'R','tweets':'yes','phd':'yes'},        True),\n",
    "        ({'level':'Senior','lang':'Python','tweets':'no','phd':'no'}, False),\n",
    "        ({'level':'Senior','lang':'R','tweets':'yes','phd':'no'},      True),\n",
    "        ({'level':'Junior','lang':'Python','tweets':'yes','phd':'no'}, True),\n",
    "        ({'level':'Senior','lang':'Python','tweets':'yes','phd':'yes'},True),\n",
    "        ({'level':'Mid','lang':'Python','tweets':'no','phd':'yes'},    True),\n",
    "        ({'level':'Mid','lang':'Java','tweets':'yes','phd':'no'},      True),\n",
    "        ({'level':'Junior','lang':'Python','tweets':'no','phd':'yes'},False)\n",
    "    ]"
   ]
  },
  {
   "cell_type": "markdown",
   "metadata": {},
   "source": [
    "So decision trees are here to tidy the dataset by looking at the values of the feature vector associated with each data point. Based on the values of each feature, decisions are made that eventually leads to a leaf and an answer.\n",
    "\n",
    "At each step, each branching, you want to decrease the entropy, so this quantity is computed before the cut and after the cut. If it decreases, the split is validated and we can proceed to the next step, otherwise, we must try to split with another feature or stop this branch.\n",
    "\n",
    "Before and after the decision, the sets are different and have different sizes. Still, entropy can be compared between these sets, using a weighted sum, as we will see in the next section.\n",
    "\n",
    "https://bricaud.github.io/personal-blog/entropy-in-decision-trees/"
   ]
  },
  {
   "cell_type": "markdown",
   "metadata": {},
   "source": [
    "#### Write 2 functions that: \n",
    "- partition by attribute\n",
    "- compute the entropy at **each partition**"
   ]
  },
  {
   "cell_type": "code",
   "execution_count": 33,
   "metadata": {},
   "outputs": [],
   "source": [
    "def partition_by (inputs, attribute):\n",
    "    '''\n",
    "    each input is a pair (attribute_dict, label)\n",
    "    returns a dict: \n",
    "        key = attribute_value\n",
    "        value = inputs\n",
    "    '''\n",
    "    groups = defaultdict(list)\n",
    "    for inpt in inputs:\n",
    "        # the key is the actual attribute name, \n",
    "        # push into the attribute_dict\n",
    "        # and then grab the attribute value\n",
    "\n",
    "        key = inpt[0][attribute] # assign the attribute value as the key\n",
    "        \n",
    "        # if the key already exists in the group dictionary, then it will just append\n",
    "        # the respective inpt \n",
    "        groups[key].append(inpt)\n",
    "    \n",
    "    return groups"
   ]
  },
  {
   "cell_type": "code",
   "execution_count": 31,
   "metadata": {},
   "outputs": [],
   "source": [
    "from pprint import pprint"
   ]
  },
  {
   "cell_type": "code",
   "execution_count": 35,
   "metadata": {},
   "outputs": [
    {
     "name": "stdout",
     "output_type": "stream",
     "text": [
      "defaultdict(<class 'list'>,\n",
      "            {'Java': [({'lang': 'Java',\n",
      "                        'level': 'Senior',\n",
      "                        'phd': 'no',\n",
      "                        'tweets': 'no'},\n",
      "                       False),\n",
      "                      ({'lang': 'Java',\n",
      "                        'level': 'Senior',\n",
      "                        'phd': 'yes',\n",
      "                        'tweets': 'no'},\n",
      "                       False),\n",
      "                      ({'lang': 'Java',\n",
      "                        'level': 'Mid',\n",
      "                        'phd': 'no',\n",
      "                        'tweets': 'yes'},\n",
      "                       True)],\n",
      "             'Python': [({'lang': 'Python',\n",
      "                          'level': 'Mid',\n",
      "                          'phd': 'no',\n",
      "                          'tweets': 'no'},\n",
      "                         True),\n",
      "                        ({'lang': 'Python',\n",
      "                          'level': 'Junior',\n",
      "                          'phd': 'no',\n",
      "                          'tweets': 'no'},\n",
      "                         True),\n",
      "                        ({'lang': 'Python',\n",
      "                          'level': 'Senior',\n",
      "                          'phd': 'no',\n",
      "                          'tweets': 'no'},\n",
      "                         False),\n",
      "                        ({'lang': 'Python',\n",
      "                          'level': 'Junior',\n",
      "                          'phd': 'no',\n",
      "                          'tweets': 'yes'},\n",
      "                         True),\n",
      "                        ({'lang': 'Python',\n",
      "                          'level': 'Senior',\n",
      "                          'phd': 'yes',\n",
      "                          'tweets': 'yes'},\n",
      "                         True),\n",
      "                        ({'lang': 'Python',\n",
      "                          'level': 'Mid',\n",
      "                          'phd': 'yes',\n",
      "                          'tweets': 'no'},\n",
      "                         True),\n",
      "                        ({'lang': 'Python',\n",
      "                          'level': 'Junior',\n",
      "                          'phd': 'yes',\n",
      "                          'tweets': 'no'},\n",
      "                         False)],\n",
      "             'R': [({'lang': 'R',\n",
      "                     'level': 'Junior',\n",
      "                     'phd': 'no',\n",
      "                     'tweets': 'yes'},\n",
      "                    True),\n",
      "                   ({'lang': 'R',\n",
      "                     'level': 'Junior',\n",
      "                     'phd': 'yes',\n",
      "                     'tweets': 'yes'},\n",
      "                    False),\n",
      "                   ({'lang': 'R',\n",
      "                     'level': 'Mid',\n",
      "                     'phd': 'yes',\n",
      "                     'tweets': 'yes'},\n",
      "                    True),\n",
      "                   ({'lang': 'R',\n",
      "                     'level': 'Senior',\n",
      "                     'phd': 'no',\n",
      "                     'tweets': 'yes'},\n",
      "                    True)]})\n"
     ]
    }
   ],
   "source": [
    "pprint(partition_by(inputs, 'lang'))"
   ]
  },
  {
   "cell_type": "code",
   "execution_count": 36,
   "metadata": {},
   "outputs": [],
   "source": [
    "def partition_entropy_by (inputs, attribute):\n",
    "    '''\n",
    "    compute the entropy for a given partition\n",
    "    '''\n",
    "    partitions = partition_by(inputs, attribute)\n",
    "    # note that the entropy calculation takes a list of lists as inputs\n",
    "    # this is why we used the defaultdict earlier to hold list types as values\n",
    "    # and we now need to specify partitions.values() because partititions is a dict object\n",
    "    entropies = my_partition_entropy(partitions.values())\n",
    "    return entropies"
   ]
  },
  {
   "cell_type": "code",
   "execution_count": 40,
   "metadata": {},
   "outputs": [
    {
     "data": {
      "text/plain": [
       "0.78845045730828955"
      ]
     },
     "execution_count": 40,
     "metadata": {},
     "output_type": "execute_result"
    }
   ],
   "source": [
    "partition_entropy_by(inputs, 'tweets')"
   ]
  },
  {
   "cell_type": "markdown",
   "metadata": {},
   "source": [
    "**REMEMBER**\n",
    "\n",
    "\n",
    "Our goal is to find the MINIMAL entropy.\n",
    "So let's loop through the different attributes given a particular input, and then see which one returns the smallest entropy."
   ]
  },
  {
   "cell_type": "code",
   "execution_count": 55,
   "metadata": {
    "scrolled": true
   },
   "outputs": [
    {
     "name": "stdout",
     "output_type": "stream",
     "text": [
      "The level attribute has entropy of 0.6935361388961919\n",
      "The lang attribute has entropy of 0.8601317128547441\n",
      "The tweets attribute has entropy of 0.7884504573082896\n",
      "The phd attribute has entropy of 0.8921589282623617\n"
     ]
    }
   ],
   "source": [
    "attributes = inputs[0][0].keys()\n",
    "total_entropies = []\n",
    "\n",
    "for tribute in attributes:\n",
    "    entropy = partition_entropy_by(inputs, tribute)\n",
    "    total_entropies.append((tribute, entropy))\n",
    "    print('The {} attribute has entropy of {}'.format(tribute, entropy))\n"
   ]
  },
  {
   "cell_type": "code",
   "execution_count": 56,
   "metadata": {},
   "outputs": [
    {
     "data": {
      "text/plain": [
       "[('level', 0.69353613889619192),\n",
       " ('lang', 0.8601317128547441),\n",
       " ('tweets', 0.78845045730828955),\n",
       " ('phd', 0.89215892826236165)]"
      ]
     },
     "execution_count": 56,
     "metadata": {},
     "output_type": "execute_result"
    }
   ],
   "source": [
    "total_entropies"
   ]
  },
  {
   "cell_type": "markdown",
   "metadata": {},
   "source": [
    "### Put it All Together!!!"
   ]
  },
  {
   "cell_type": "code",
   "execution_count": 78,
   "metadata": {},
   "outputs": [],
   "source": [
    "def classify_tree (tree, inpt):\n",
    "    '''\n",
    "    classify the input using the given decision tree\n",
    "    '''\n",
    "    # if this is a leaf node, return its value\n",
    "    if tree in [True, False]:\n",
    "        return tree\n",
    "    \n",
    "    # otherwise this tree consists of an attribute to split on\n",
    "    # and a dictionary whose keys are values of that attribute\n",
    "    # and whose values of are subtrees to consider next\n",
    "    \n",
    "    attribute, subtree_dict = tree\n",
    "    subtree_key = inpt.get(attribute) # None if input is missing attribute\n",
    "    \n",
    "    if subtree_key not in subtree_dict: # if no subtree exists for that key\n",
    "        subtree_key = None\n",
    "        \n",
    "    subtree = subtree_dict[subtree_key] # choose the appropriate subtree\n",
    "    return classify_tree(subtree, inpt) # make it recursive until it finds a node"
   ]
  },
  {
   "cell_type": "markdown",
   "metadata": {},
   "source": [
    "**As a reminder, this is what we want to have our Decision Tree do when we build it**\n",
    "\n",
    "- If the data **all** have the **same label** then create a leaf node with that label, and then STOP\n",
    "- If the list of **attributes is empty** (share no more possible questions to ask), create a leaf node that **predicts the most common label** and then STOP\n",
    "- Otherwise, try partitioning the data by **each** of the attributes\n",
    "- Choose the partition with the lowest partition entropy\n",
    "- Add a decision node based on the chosen attribute\n",
    "- Recur on each partitioned subset using the remaining attributes"
   ]
  },
  {
   "cell_type": "code",
   "execution_count": 70,
   "metadata": {},
   "outputs": [
    {
     "data": {
      "text/plain": [
       "[({'level': 'Senior', 'lang': 'Java', 'tweets': 'no', 'phd': 'no'}, False),\n",
       " ({'level': 'Senior', 'lang': 'Java', 'tweets': 'no', 'phd': 'yes'}, False),\n",
       " ({'level': 'Mid', 'lang': 'Python', 'tweets': 'no', 'phd': 'no'}, True),\n",
       " ({'level': 'Junior', 'lang': 'Python', 'tweets': 'no', 'phd': 'no'}, True),\n",
       " ({'level': 'Junior', 'lang': 'R', 'tweets': 'yes', 'phd': 'no'}, True),\n",
       " ({'level': 'Junior', 'lang': 'R', 'tweets': 'yes', 'phd': 'yes'}, False),\n",
       " ({'level': 'Mid', 'lang': 'R', 'tweets': 'yes', 'phd': 'yes'}, True),\n",
       " ({'level': 'Senior', 'lang': 'Python', 'tweets': 'no', 'phd': 'no'}, False),\n",
       " ({'level': 'Senior', 'lang': 'R', 'tweets': 'yes', 'phd': 'no'}, True),\n",
       " ({'level': 'Junior', 'lang': 'Python', 'tweets': 'yes', 'phd': 'no'}, True),\n",
       " ({'level': 'Senior', 'lang': 'Python', 'tweets': 'yes', 'phd': 'yes'}, True),\n",
       " ({'level': 'Mid', 'lang': 'Python', 'tweets': 'no', 'phd': 'yes'}, True),\n",
       " ({'level': 'Mid', 'lang': 'Java', 'tweets': 'yes', 'phd': 'no'}, True),\n",
       " ({'level': 'Junior', 'lang': 'Python', 'tweets': 'no', 'phd': 'yes'}, False)]"
      ]
     },
     "execution_count": 70,
     "metadata": {},
     "output_type": "execute_result"
    }
   ],
   "source": [
    "inputs"
   ]
  },
  {
   "cell_type": "code",
   "execution_count": 72,
   "metadata": {},
   "outputs": [],
   "source": [
    "def build_tree_id3(inputs, split_candidates=None):\n",
    "    '''\n",
    "    recall that the INPUTS are of the format (attribute_dict, label)\n",
    "    recall that TREES are of the object time dictionary, \n",
    "        - with the dict KEY as the ATTRIBUTE_VALUE\n",
    "        - with the dict VALUE as the INPUTS\n",
    "    '''\n",
    "    # if this is our first pass, \n",
    "    # all keys of the first input are split candidates\n",
    "    if split_candidates is None:\n",
    "        split_candidates = inputs[0][0].keys()\n",
    "        \n",
    "    # count Trues and Falses in the inputs\n",
    "    num_inputs = len(inputs)\n",
    "    num_trues = len([label for _, label in inputs if label == True]) # may not need the if label == True part\n",
    "    num_falses = num_inputs - num_trues # if it's not True, then it's False\n",
    "    \n",
    "    # if there are no Trues, then return False as the final leaf (node) and STOP\n",
    "    # if there are no Falses, then return True as the final leaf (node) and STOP\n",
    "    if num_trues == 0:\n",
    "        return False\n",
    "    if num_falses == 0:\n",
    "        return True\n",
    "    \n",
    "    # if there are no split_candidates remaining\n",
    "    # return the majority leaf\n",
    "    if not split_candidates: \n",
    "        return num_trues >= num_falses \n",
    "    \n",
    "    # otherwise split on the best attribute (the one with least entropy)\n",
    "    best_attribute = min(split_candidates, key=partial(partition_entropy_by, inputs))\n",
    "    \n",
    "    # make this your first split aka partition, but do it on the best_attribute\n",
    "    # because it has the lowest entropy\n",
    "    partitions = partition_by(inputs, best_attribute)\n",
    "    new_candidates = [candidate for candidate in split_candidates if candidate != best_attribute]\n",
    "    \n",
    "    # recursively build the subtrees\n",
    "    subtrees = {attribute_value : build_tree_id3 (subset, new_candidates) \\\n",
    "               for attribute_value, subset in partitions.items()}\n",
    "    \n",
    "    # if there are no subtrees, then return the majority\n",
    "    subtrees[None] = num_trues > num_falses\n",
    "    \n",
    "    # format the return to be the same as INPUTS\n",
    "    return (best_attribute, subtrees)\n",
    "    "
   ]
  },
  {
   "cell_type": "code",
   "execution_count": 73,
   "metadata": {},
   "outputs": [],
   "source": [
    "tree1 = build_tree_id3(inputs)"
   ]
  },
  {
   "cell_type": "code",
   "execution_count": 74,
   "metadata": {
    "scrolled": true
   },
   "outputs": [
    {
     "data": {
      "text/plain": [
       "('level',\n",
       " {'Senior': ('tweets', {'no': False, 'yes': True, None: False}),\n",
       "  'Mid': True,\n",
       "  'Junior': ('phd', {'no': True, 'yes': False, None: True}),\n",
       "  None: True})"
      ]
     },
     "execution_count": 74,
     "metadata": {},
     "output_type": "execute_result"
    }
   ],
   "source": [
    "tree1"
   ]
  },
  {
   "cell_type": "code",
   "execution_count": 79,
   "metadata": {},
   "outputs": [
    {
     "data": {
      "text/plain": [
       "False"
      ]
     },
     "execution_count": 79,
     "metadata": {},
     "output_type": "execute_result"
    }
   ],
   "source": [
    "classify_tree(tree1, {'level':'Senior'})"
   ]
  },
  {
   "cell_type": "code",
   "execution_count": 80,
   "metadata": {},
   "outputs": [
    {
     "data": {
      "text/plain": [
       "True"
      ]
     },
     "execution_count": 80,
     "metadata": {},
     "output_type": "execute_result"
    }
   ],
   "source": [
    "classify_tree(tree1, {'level':'Mid'})"
   ]
  },
  {
   "cell_type": "code",
   "execution_count": 81,
   "metadata": {},
   "outputs": [
    {
     "data": {
      "text/plain": [
       "True"
      ]
     },
     "execution_count": 81,
     "metadata": {},
     "output_type": "execute_result"
    }
   ],
   "source": [
    "classify_tree(tree1, {'level':'Junior'})"
   ]
  },
  {
   "cell_type": "code",
   "execution_count": 82,
   "metadata": {},
   "outputs": [
    {
     "data": {
      "text/plain": [
       "True"
      ]
     },
     "execution_count": 82,
     "metadata": {},
     "output_type": "execute_result"
    }
   ],
   "source": [
    "classify_tree(tree1, {'level':'Intern'})"
   ]
  },
  {
   "cell_type": "markdown",
   "metadata": {},
   "source": [
    "min(iterable, *[, key, default])\n",
    "min(arg1, arg2, *args[, key])\n",
    "Return the smallest item in an iterable or the smallest of two or more arguments.\n",
    "\n",
    "If one positional argument is provided, it should be an iterable. The **smallest item in the iterable is returned**. If two or more positional arguments are provided, the smallest of the positional arguments is returned.\n",
    "\n",
    "There are two optional keyword-only arguments. **The key argument specifies a one-argument ordering function like that used for `list.sort()`**. The default argument specifies an object to return if the provided iterable is empty. If the iterable is empty and default is not provided, a ValueError is raised.\n",
    "\n",
    "**If multiple items are minimal, the function returns the first one encountered.** This is consistent with other sort-stability preserving tools such as sorted(iterable, key=keyfunc)[0] and heapq.nsmallest(1, iterable, key=keyfunc).\n",
    "\n",
    "New in version 3.4: The default keyword-only argument.\n",
    "\n",
    "https://docs.python.org/3.6/library/functions.html#min"
   ]
  },
  {
   "cell_type": "code",
   "execution_count": 66,
   "metadata": {},
   "outputs": [],
   "source": [
    "best_attribute_test = min(attributes, key=partial(partition_entropy_by, inputs))"
   ]
  },
  {
   "cell_type": "code",
   "execution_count": 69,
   "metadata": {
    "scrolled": true
   },
   "outputs": [
    {
     "data": {
      "text/plain": [
       "'level'"
      ]
     },
     "execution_count": 69,
     "metadata": {},
     "output_type": "execute_result"
    }
   ],
   "source": [
    "best_attribute_test"
   ]
  },
  {
   "cell_type": "code",
   "execution_count": null,
   "metadata": {},
   "outputs": [],
   "source": []
  }
 ],
 "metadata": {
  "kernelspec": {
   "display_name": "Python 3",
   "language": "python",
   "name": "python3"
  },
  "language_info": {
   "codemirror_mode": {
    "name": "ipython",
    "version": 3
   },
   "file_extension": ".py",
   "mimetype": "text/x-python",
   "name": "python",
   "nbconvert_exporter": "python",
   "pygments_lexer": "ipython3",
   "version": "3.6.5"
  }
 },
 "nbformat": 4,
 "nbformat_minor": 2
}
